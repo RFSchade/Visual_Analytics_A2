{
 "cells": [
  {
   "cell_type": "markdown",
   "id": "1abe455b-8413-417d-af03-747c787d5d66",
   "metadata": {},
   "source": [
    "# Assignment Notebook NN - fully connected"
   ]
  },
  {
   "cell_type": "markdown",
   "id": "efe4a5c1-3e04-411e-a981-fd2e4a0d8562",
   "metadata": {},
   "source": [
    "Import modules"
   ]
  },
  {
   "cell_type": "code",
   "execution_count": 1,
   "id": "236fc057-7da2-4844-9e9c-ef0f60d999a9",
   "metadata": {
    "execution": {
     "iopub.execute_input": "2022-05-17T16:28:14.485529Z",
     "iopub.status.busy": "2022-05-17T16:28:14.484837Z",
     "iopub.status.idle": "2022-05-17T16:28:24.436463Z",
     "shell.execute_reply": "2022-05-17T16:28:24.435213Z",
     "shell.execute_reply.started": "2022-05-17T16:28:14.485477Z"
    },
    "tags": []
   },
   "outputs": [
    {
     "name": "stderr",
     "output_type": "stream",
     "text": [
      "2022-05-17 18:28:23.151923: W tensorflow/stream_executor/platform/default/dso_loader.cc:64] Could not load dynamic library 'libcudart.so.11.0'; dlerror: libcudart.so.11.0: cannot open shared object file: No such file or directory\n",
      "2022-05-17 18:28:23.151959: I tensorflow/stream_executor/cuda/cudart_stub.cc:29] Ignore above cudart dlerror if you do not have a GPU set up on your machine.\n"
     ]
    }
   ],
   "source": [
    "# data tools\n",
    "import os\n",
    "import numpy as np\n",
    "import matplotlib.pyplot as plt\n",
    "from tqdm import tqdm\n",
    "import pandas as pd \n",
    "\n",
    "# sklearn tools\n",
    "from sklearn.preprocessing import LabelBinarizer\n",
    "from sklearn.metrics import classification_report\n",
    "from sklearn.datasets import fetch_openml\n",
    "from sklearn.model_selection import train_test_split\n",
    "\n",
    "# tf tools\n",
    "import tensorflow as tf\n",
    "from tensorflow.keras.datasets import cifar10\n",
    "from tensorflow.keras.models import Sequential\n",
    "from tensorflow.keras.layers import Dense\n",
    "from tensorflow.keras.utils import plot_model\n",
    "from tensorflow.keras.optimizers import SGD\n",
    "\n",
    "import cv2\n",
    "\n",
    "# Import sklearn metrics\n",
    "from sklearn import metrics\n",
    "from sklearn.datasets import fetch_openml\n",
    "from sklearn.model_selection import train_test_split\n",
    "from sklearn.linear_model import LogisticRegression\n",
    "from sklearn.metrics import accuracy_score\n",
    "from sklearn.preprocessing import LabelBinarizer"
   ]
  },
  {
   "cell_type": "markdown",
   "id": "de0decb7-ed13-441d-b03a-b8b8283ece3a",
   "metadata": {},
   "source": [
    "Define plot history function "
   ]
  },
  {
   "cell_type": "code",
   "execution_count": 2,
   "id": "dd2aa9e5-61da-4f71-b2b4-29a021625757",
   "metadata": {
    "execution": {
     "iopub.execute_input": "2022-05-16T10:00:50.463683Z",
     "iopub.status.busy": "2022-05-16T10:00:50.463290Z",
     "iopub.status.idle": "2022-05-16T10:00:50.471995Z",
     "shell.execute_reply": "2022-05-16T10:00:50.471315Z",
     "shell.execute_reply.started": "2022-05-16T10:00:50.463653Z"
    },
    "tags": []
   },
   "outputs": [],
   "source": [
    "def plot_history(H, epochs):\n",
    "    plt.style.use(\"seaborn-colorblind\")\n",
    "\n",
    "    plt.figure(figsize=(12,6))\n",
    "    plt.subplot(1,2,1)\n",
    "    plt.plot(np.arange(0, epochs), H.history[\"loss\"], label=\"train_loss\")\n",
    "    plt.plot(np.arange(0, epochs), H.history[\"val_loss\"], label=\"val_loss\", linestyle=\":\")\n",
    "    plt.title(\"Loss curve\")\n",
    "    plt.xlabel(\"Epoch\")\n",
    "    plt.ylabel(\"Loss\")\n",
    "    plt.tight_layout()\n",
    "    plt.legend()\n",
    "\n",
    "    plt.subplot(1,2,2)\n",
    "    plt.plot(np.arange(0, epochs), H.history[\"accuracy\"], label=\"train_acc\")\n",
    "    plt.plot(np.arange(0, epochs), H.history[\"val_accuracy\"], label=\"val_acc\", linestyle=\":\")\n",
    "    plt.title(\"Accuracy curve\")\n",
    "    plt.xlabel(\"Epoch\")\n",
    "    plt.ylabel(\"Accuracy\")\n",
    "    plt.tight_layout()\n",
    "    plt.legend()\n",
    "    plt.show()"
   ]
  },
  {
   "cell_type": "markdown",
   "id": "7cfec7a4-c7d6-4982-910d-b8beda21877c",
   "metadata": {},
   "source": [
    "Load data "
   ]
  },
  {
   "cell_type": "code",
   "execution_count": 2,
   "id": "33e11b47-c3d9-4167-901c-a8fd6ae325d0",
   "metadata": {
    "execution": {
     "iopub.execute_input": "2022-05-17T16:28:24.444231Z",
     "iopub.status.busy": "2022-05-17T16:28:24.444093Z",
     "iopub.status.idle": "2022-05-17T16:28:24.448387Z",
     "shell.execute_reply": "2022-05-17T16:28:24.447611Z",
     "shell.execute_reply.started": "2022-05-17T16:28:24.444217Z"
    },
    "tags": []
   },
   "outputs": [],
   "source": [
    "# > Load data \n",
    "def load_data():\n",
    "    # Print info \n",
    "    print(\"[info] Loading data...\")\n",
    "    # Load data \n",
    "    X, y = fetch_openml(\"mnist_784\", return_X_y=True)\n",
    "    # Get label names \n",
    "    label_names = sorted(y.unique())\n",
    "    # Print info\n",
    "    print(\"[info] Data loaded\")\n",
    "    \n",
    "    return (X, y, label_names)"
   ]
  },
  {
   "cell_type": "code",
   "execution_count": 3,
   "id": "9a00b849-b77a-4abc-8963-a0a887211caa",
   "metadata": {
    "execution": {
     "iopub.execute_input": "2022-05-17T16:28:26.425249Z",
     "iopub.status.busy": "2022-05-17T16:28:26.424723Z",
     "iopub.status.idle": "2022-05-17T16:28:59.693135Z",
     "shell.execute_reply": "2022-05-17T16:28:59.691790Z",
     "shell.execute_reply.started": "2022-05-17T16:28:26.425199Z"
    },
    "tags": []
   },
   "outputs": [
    {
     "name": "stdout",
     "output_type": "stream",
     "text": [
      "[info] Loading data...\n",
      "[info] Data loaded\n"
     ]
    }
   ],
   "source": [
    "X, y, label_names = load_data()"
   ]
  },
  {
   "cell_type": "code",
   "execution_count": 5,
   "id": "dc292bd4-e182-47fe-a2fb-1dafbd300036",
   "metadata": {
    "execution": {
     "iopub.execute_input": "2022-05-17T16:48:04.241048Z",
     "iopub.status.busy": "2022-05-17T16:48:04.240506Z",
     "iopub.status.idle": "2022-05-17T16:48:04.249867Z",
     "shell.execute_reply": "2022-05-17T16:48:04.248965Z",
     "shell.execute_reply.started": "2022-05-17T16:48:04.240997Z"
    },
    "tags": []
   },
   "outputs": [
    {
     "data": {
      "text/plain": [
       "pandas.core.series.Series"
      ]
     },
     "execution_count": 5,
     "metadata": {},
     "output_type": "execute_result"
    }
   ],
   "source": [
    "type(y)"
   ]
  },
  {
   "cell_type": "code",
   "execution_count": 7,
   "id": "743a58ab-6d96-48a3-95d2-bc8770085163",
   "metadata": {
    "execution": {
     "iopub.execute_input": "2022-05-17T16:48:15.406824Z",
     "iopub.status.busy": "2022-05-17T16:48:15.406284Z",
     "iopub.status.idle": "2022-05-17T16:48:15.418653Z",
     "shell.execute_reply": "2022-05-17T16:48:15.417709Z",
     "shell.execute_reply.started": "2022-05-17T16:48:15.406774Z"
    },
    "tags": []
   },
   "outputs": [
    {
     "data": {
      "text/plain": [
       "0    5\n",
       "1    0\n",
       "2    4\n",
       "3    1\n",
       "4    9\n",
       "5    2\n",
       "6    1\n",
       "7    3\n",
       "8    1\n",
       "9    4\n",
       "Name: class, dtype: category\n",
       "Categories (10, object): ['0', '1', '2', '3', ..., '6', '7', '8', '9']"
      ]
     },
     "execution_count": 7,
     "metadata": {},
     "output_type": "execute_result"
    }
   ],
   "source": [
    "y[:10]"
   ]
  },
  {
   "cell_type": "code",
   "execution_count": 5,
   "id": "b1a9381b-60b0-42c3-9244-4d0328f939fe",
   "metadata": {
    "execution": {
     "iopub.execute_input": "2022-05-16T10:01:39.011351Z",
     "iopub.status.busy": "2022-05-16T10:01:39.010827Z",
     "iopub.status.idle": "2022-05-16T10:01:39.020482Z",
     "shell.execute_reply": "2022-05-16T10:01:39.019391Z",
     "shell.execute_reply.started": "2022-05-16T10:01:39.011305Z"
    },
    "tags": []
   },
   "outputs": [
    {
     "data": {
      "text/plain": [
       "(70000, 784)"
      ]
     },
     "execution_count": 5,
     "metadata": {},
     "output_type": "execute_result"
    }
   ],
   "source": [
    "X.shape"
   ]
  },
  {
   "cell_type": "code",
   "execution_count": 6,
   "id": "47c0dfeb-4505-44f5-aec9-4554ed23e9b2",
   "metadata": {
    "execution": {
     "iopub.execute_input": "2022-05-16T10:01:44.159364Z",
     "iopub.status.busy": "2022-05-16T10:01:44.158841Z",
     "iopub.status.idle": "2022-05-16T10:01:44.167313Z",
     "shell.execute_reply": "2022-05-16T10:01:44.166449Z",
     "shell.execute_reply.started": "2022-05-16T10:01:44.159317Z"
    }
   },
   "outputs": [
    {
     "data": {
      "text/plain": [
       "pandas.core.frame.DataFrame"
      ]
     },
     "execution_count": 6,
     "metadata": {},
     "output_type": "execute_result"
    }
   ],
   "source": [
    "type(X)"
   ]
  },
  {
   "cell_type": "code",
   "execution_count": 6,
   "id": "7eae20c1-cec9-4f6d-944d-43c30c063538",
   "metadata": {
    "execution": {
     "iopub.execute_input": "2022-05-15T14:04:38.686781Z",
     "iopub.status.busy": "2022-05-15T14:04:38.686120Z",
     "iopub.status.idle": "2022-05-15T14:04:38.696223Z",
     "shell.execute_reply": "2022-05-15T14:04:38.695332Z",
     "shell.execute_reply.started": "2022-05-15T14:04:38.686726Z"
    },
    "tags": []
   },
   "outputs": [
    {
     "data": {
      "text/plain": [
       "['0', '1', '2', '3', '4', '5', '6', '7', '8', '9']"
      ]
     },
     "execution_count": 6,
     "metadata": {},
     "output_type": "execute_result"
    }
   ],
   "source": [
    "sorted(y.unique())"
   ]
  },
  {
   "cell_type": "markdown",
   "id": "7f36e070-6971-47c1-8b00-b9b700a6af6b",
   "metadata": {},
   "source": [
    "Prepare data "
   ]
  },
  {
   "cell_type": "code",
   "execution_count": 4,
   "id": "51212e37-1136-44e0-816f-d08318c90973",
   "metadata": {
    "execution": {
     "iopub.execute_input": "2022-05-15T16:47:33.068151Z",
     "iopub.status.busy": "2022-05-15T16:47:33.067599Z",
     "iopub.status.idle": "2022-05-15T16:47:33.078879Z",
     "shell.execute_reply": "2022-05-15T16:47:33.077674Z",
     "shell.execute_reply.started": "2022-05-15T16:47:33.068095Z"
    },
    "tags": []
   },
   "outputs": [],
   "source": [
    "# > Prepare data\n",
    "def prep_data(X, y):\n",
    "    # Print info \n",
    "    print(\"[info] Processing data...\")\n",
    "    # Converting X and y to numpy arrays\n",
    "    X = np.array(X)\n",
    "    y = np.array(y)\n",
    "    # Splitting data \n",
    "    X_train, X_test, y_train, y_test = train_test_split(X, y,\n",
    "                                                        random_state=42,\n",
    "                                                        test_size = 0.2)\n",
    "    # Scaling the features\n",
    "    X_train_scaled = X_train / 255\n",
    "    X_test_scaled = X_test / 255\n",
    "    \n",
    "    # I don't really remember why I do this \n",
    "    # Is it so I can use a logistic regression as an activation function on categorical data with more than 1 categories? \n",
    "    y_train_binarized = LabelBinarizer().fit_transform(y_train)\n",
    "    y_test_binarized = LabelBinarizer().fit_transform(y_test)\n",
    "    \n",
    "    return (X_train_scaled, X_test_scaled, y_train_binarized, y_test_binarized)"
   ]
  },
  {
   "cell_type": "code",
   "execution_count": 8,
   "id": "738c1d74-6ca3-4395-ba64-10de59df5f74",
   "metadata": {
    "execution": {
     "iopub.execute_input": "2022-05-15T14:04:46.848158Z",
     "iopub.status.busy": "2022-05-15T14:04:46.847633Z",
     "iopub.status.idle": "2022-05-15T14:04:47.900479Z",
     "shell.execute_reply": "2022-05-15T14:04:47.899808Z",
     "shell.execute_reply.started": "2022-05-15T14:04:46.848108Z"
    },
    "tags": []
   },
   "outputs": [
    {
     "name": "stdout",
     "output_type": "stream",
     "text": [
      "[info] Processing data...\n"
     ]
    }
   ],
   "source": [
    "# processing data\n",
    "X_train, X_test, y_train, y_test = prep_data(X, y)"
   ]
  },
  {
   "cell_type": "markdown",
   "id": "897c19ec-be4a-4e87-869a-1d98f4d8728d",
   "metadata": {},
   "source": [
    "Build model "
   ]
  },
  {
   "cell_type": "code",
   "execution_count": 5,
   "id": "25133a03-937e-40cf-a92e-004ef5134c2d",
   "metadata": {
    "execution": {
     "iopub.execute_input": "2022-05-15T16:47:35.281051Z",
     "iopub.status.busy": "2022-05-15T16:47:35.280503Z",
     "iopub.status.idle": "2022-05-15T16:47:35.293709Z",
     "shell.execute_reply": "2022-05-15T16:47:35.292145Z",
     "shell.execute_reply.started": "2022-05-15T16:47:35.280998Z"
    },
    "tags": []
   },
   "outputs": [],
   "source": [
    "# > Create model\n",
    "def create_model():\n",
    "    # Print info \n",
    "    print(\"[INFO] Initializing model\")\n",
    "    \n",
    "    # define simple architecture 784x256x128x10\n",
    "    model = Sequential()\n",
    "    model.add(Dense(256, input_shape=(784,), activation=\"relu\"))\n",
    "    model.add(Dense(128, activation=\"relu\"))\n",
    "    model.add(Dense(10, activation=\"softmax\")) #softmax generalises LogReg for multiclass tasks\n",
    "    \n",
    "    # define the gradient descent\n",
    "    sgd = SGD(0.01)\n",
    "    # compile model\n",
    "    model.compile(loss=\"categorical_crossentropy\",\n",
    "                  optimizer=sgd,\n",
    "                  metrics=[\"accuracy\"])\n",
    "\n",
    "    # define the gradient descent\n",
    "    sgd = SGD(0.01)\n",
    "    # compile model\n",
    "    model.compile(loss=\"categorical_crossentropy\",\n",
    "                  optimizer=sgd,\n",
    "                  metrics=[\"accuracy\"])\n",
    "    \n",
    "    # Print info\n",
    "    print(\"[INFO] Model summary:\")\n",
    "    model.summary()\n",
    "    \n",
    "    return model"
   ]
  },
  {
   "cell_type": "code",
   "execution_count": 21,
   "id": "329ec23c-5bf6-4b54-80b1-8c4e8dd5b8ce",
   "metadata": {
    "execution": {
     "iopub.execute_input": "2022-05-15T14:23:53.412868Z",
     "iopub.status.busy": "2022-05-15T14:23:53.412186Z",
     "iopub.status.idle": "2022-05-15T14:23:53.467860Z",
     "shell.execute_reply": "2022-05-15T14:23:53.467276Z",
     "shell.execute_reply.started": "2022-05-15T14:23:53.412809Z"
    }
   },
   "outputs": [
    {
     "name": "stdout",
     "output_type": "stream",
     "text": [
      "[INFO] Initializing model\n",
      "[INFO] Compiling model\n",
      "[INFO] Model compiled!\n",
      "[INFO] Model summary:\n",
      "Model: \"sequential_1\"\n",
      "_________________________________________________________________\n",
      " Layer (type)                Output Shape              Param #   \n",
      "=================================================================\n",
      " dense_3 (Dense)             (None, 256)               200960    \n",
      "                                                                 \n",
      " dense_4 (Dense)             (None, 128)               32896     \n",
      "                                                                 \n",
      " dense_5 (Dense)             (None, 10)                1290      \n",
      "                                                                 \n",
      "=================================================================\n",
      "Total params: 235,146\n",
      "Trainable params: 235,146\n",
      "Non-trainable params: 0\n",
      "_________________________________________________________________\n"
     ]
    }
   ],
   "source": [
    "model = create_model()"
   ]
  },
  {
   "cell_type": "code",
   "execution_count": 9,
   "id": "e0b96150-24b2-4447-a7d4-139e99a325f2",
   "metadata": {
    "execution": {
     "iopub.execute_input": "2022-05-15T14:04:50.019738Z",
     "iopub.status.busy": "2022-05-15T14:04:50.019117Z",
     "iopub.status.idle": "2022-05-15T14:04:50.030332Z",
     "shell.execute_reply": "2022-05-15T14:04:50.029715Z",
     "shell.execute_reply.started": "2022-05-15T14:04:50.019686Z"
    },
    "tags": []
   },
   "outputs": [],
   "source": [
    "# To keep me from adding to the model when I do not want to \n",
    "tf.keras.backend.clear_session() # Not sure if this smar to have in the final product?"
   ]
  },
  {
   "cell_type": "code",
   "execution_count": 10,
   "id": "3b9af057-4726-481d-b1dd-1d04f667a0ab",
   "metadata": {
    "execution": {
     "iopub.execute_input": "2022-05-15T14:04:52.101184Z",
     "iopub.status.busy": "2022-05-15T14:04:52.100662Z",
     "iopub.status.idle": "2022-05-15T14:04:52.108485Z",
     "shell.execute_reply": "2022-05-15T14:04:52.107029Z",
     "shell.execute_reply.started": "2022-05-15T14:04:52.101134Z"
    },
    "tags": []
   },
   "outputs": [],
   "source": [
    "# Define model\n",
    "#model = Sequential()\n",
    "\n",
    "# First set of layers CONV => ReLU => MAXPOOL\n",
    "#model.add(Conv2D(32, (3,3),\n",
    "                #padding = \"same\", \n",
    "                #input_shape = (784,)))\n",
    "#model.add(Activation(\"relu\"))\n",
    "#model.add(MaxPooling2D(pool_size = (2,2),\n",
    "                #      strides = (2,2)))\n",
    "\n",
    "# Second set of layers CONV => RelU => MAXPOOL \n",
    "#model.add(Conv2D(50, (5,5),\n",
    "                #padding=\"same\"))\n",
    "#model.add(Activation(\"relu\"))\n",
    "#model.add(MaxPooling2D(pool_size = (2,2),\n",
    "                 #      strides = (2,2)))\n",
    "\n",
    "# FC => ReLU\n",
    "#model.add(Flatten())\n",
    "#model.add(Dense(512))\n",
    "#model.add(Activation(\"relu\"))\n",
    "\n",
    "# Softmax classifier \n",
    "#model.add(Dense(10))\n",
    "#model.add(Activation(\"softmax\"))"
   ]
  },
  {
   "cell_type": "code",
   "execution_count": 11,
   "id": "b2fa79dc-f201-4505-8bb3-3ca78428bc30",
   "metadata": {
    "execution": {
     "iopub.execute_input": "2022-05-15T14:06:22.954936Z",
     "iopub.status.busy": "2022-05-15T14:06:22.954421Z",
     "iopub.status.idle": "2022-05-15T14:06:23.115900Z",
     "shell.execute_reply": "2022-05-15T14:06:23.115239Z",
     "shell.execute_reply.started": "2022-05-15T14:06:22.954886Z"
    }
   },
   "outputs": [
    {
     "name": "stderr",
     "output_type": "stream",
     "text": [
      "2022-05-15 16:06:23.053186: E tensorflow/stream_executor/cuda/cuda_driver.cc:271] failed call to cuInit: CUDA_ERROR_NO_DEVICE: no CUDA-capable device is detected\n",
      "2022-05-15 16:06:23.053243: I tensorflow/stream_executor/cuda/cuda_diagnostics.cc:156] kernel driver does not appear to be running on this host (j-71038-job-0): /proc/driver/nvidia/version does not exist\n",
      "2022-05-15 16:06:23.053702: I tensorflow/core/platform/cpu_feature_guard.cc:151] This TensorFlow binary is optimized with oneAPI Deep Neural Network Library (oneDNN) to use the following CPU instructions in performance-critical operations:  AVX2 AVX512F FMA\n",
      "To enable them in other operations, rebuild TensorFlow with the appropriate compiler flags.\n"
     ]
    }
   ],
   "source": [
    "# define simple architecture 784x256x128x10\n",
    "model = Sequential()\n",
    "model.add(Dense(256, input_shape=(784,), activation=\"relu\"))\n",
    "model.add(Dense(128, activation=\"relu\"))\n",
    "model.add(Dense(10, activation=\"softmax\")) #softmax generalises LogReg for multiclass tasks"
   ]
  },
  {
   "cell_type": "markdown",
   "id": "ce39a02b-49a6-4839-b222-6a3d98242ca0",
   "metadata": {},
   "source": [
    "Compile model "
   ]
  },
  {
   "cell_type": "code",
   "execution_count": 13,
   "id": "89670d9a-6f20-432c-a246-549d7abc3bcb",
   "metadata": {
    "execution": {
     "iopub.execute_input": "2022-05-15T14:06:55.034479Z",
     "iopub.status.busy": "2022-05-15T14:06:55.033923Z",
     "iopub.status.idle": "2022-05-15T14:06:55.052252Z",
     "shell.execute_reply": "2022-05-15T14:06:55.051537Z",
     "shell.execute_reply.started": "2022-05-15T14:06:55.034425Z"
    },
    "tags": []
   },
   "outputs": [],
   "source": [
    "# define the gradient descent\n",
    "sgd = SGD(0.01)\n",
    "# compile model\n",
    "model.compile(loss=\"categorical_crossentropy\",\n",
    "              optimizer=sgd,\n",
    "              metrics=[\"accuracy\"])"
   ]
  },
  {
   "cell_type": "markdown",
   "id": "89a61144-a48e-408c-98c4-45779752eee6",
   "metadata": {},
   "source": [
    "Model summary"
   ]
  },
  {
   "cell_type": "code",
   "execution_count": 14,
   "id": "af786f26-b960-4363-bfa3-1ee1ceac5ec4",
   "metadata": {
    "execution": {
     "iopub.execute_input": "2022-05-15T14:07:14.275112Z",
     "iopub.status.busy": "2022-05-15T14:07:14.274594Z",
     "iopub.status.idle": "2022-05-15T14:07:14.296752Z",
     "shell.execute_reply": "2022-05-15T14:07:14.295844Z",
     "shell.execute_reply.started": "2022-05-15T14:07:14.275061Z"
    },
    "tags": []
   },
   "outputs": [
    {
     "name": "stdout",
     "output_type": "stream",
     "text": [
      "Model: \"sequential\"\n",
      "_________________________________________________________________\n",
      " Layer (type)                Output Shape              Param #   \n",
      "=================================================================\n",
      " dense (Dense)               (None, 256)               200960    \n",
      "                                                                 \n",
      " dense_1 (Dense)             (None, 128)               32896     \n",
      "                                                                 \n",
      " dense_2 (Dense)             (None, 10)                1290      \n",
      "                                                                 \n",
      "=================================================================\n",
      "Total params: 235,146\n",
      "Trainable params: 235,146\n",
      "Non-trainable params: 0\n",
      "_________________________________________________________________\n"
     ]
    }
   ],
   "source": [
    "model.summary()"
   ]
  },
  {
   "cell_type": "markdown",
   "id": "df2b5af7-f4d5-4c1e-8a32-2b0216596839",
   "metadata": {},
   "source": [
    "Train model "
   ]
  },
  {
   "cell_type": "code",
   "execution_count": 15,
   "id": "03fa9991-048c-4987-a919-2b6c30d7e496",
   "metadata": {
    "execution": {
     "iopub.execute_input": "2022-05-15T14:07:23.392551Z",
     "iopub.status.busy": "2022-05-15T14:07:23.392014Z",
     "iopub.status.idle": "2022-05-15T14:08:33.223053Z",
     "shell.execute_reply": "2022-05-15T14:08:33.222017Z",
     "shell.execute_reply.started": "2022-05-15T14:07:23.392503Z"
    },
    "tags": []
   },
   "outputs": [
    {
     "name": "stdout",
     "output_type": "stream",
     "text": [
      "Epoch 1/10\n",
      "1750/1750 [==============================] - 7s 4ms/step - loss: 0.6338 - accuracy: 0.8313 - val_loss: 0.3330 - val_accuracy: 0.9069\n",
      "Epoch 2/10\n",
      "1750/1750 [==============================] - 7s 4ms/step - loss: 0.2965 - accuracy: 0.9156 - val_loss: 0.2702 - val_accuracy: 0.9232\n",
      "Epoch 3/10\n",
      "1750/1750 [==============================] - 7s 4ms/step - loss: 0.2441 - accuracy: 0.9298 - val_loss: 0.2344 - val_accuracy: 0.9343\n",
      "Epoch 4/10\n",
      "1750/1750 [==============================] - 7s 4ms/step - loss: 0.2079 - accuracy: 0.9408 - val_loss: 0.2063 - val_accuracy: 0.9409\n",
      "Epoch 5/10\n",
      "1750/1750 [==============================] - 7s 4ms/step - loss: 0.1804 - accuracy: 0.9487 - val_loss: 0.1854 - val_accuracy: 0.9479\n",
      "Epoch 6/10\n",
      "1750/1750 [==============================] - 7s 4ms/step - loss: 0.1590 - accuracy: 0.9544 - val_loss: 0.1703 - val_accuracy: 0.9525\n",
      "Epoch 7/10\n",
      "1750/1750 [==============================] - 7s 4ms/step - loss: 0.1416 - accuracy: 0.9591 - val_loss: 0.1591 - val_accuracy: 0.9546\n",
      "Epoch 8/10\n",
      "1750/1750 [==============================] - 7s 4ms/step - loss: 0.1274 - accuracy: 0.9634 - val_loss: 0.1457 - val_accuracy: 0.9598\n",
      "Epoch 9/10\n",
      "1750/1750 [==============================] - 7s 4ms/step - loss: 0.1158 - accuracy: 0.9670 - val_loss: 0.1415 - val_accuracy: 0.9597\n",
      "Epoch 10/10\n",
      "1750/1750 [==============================] - 7s 4ms/step - loss: 0.1057 - accuracy: 0.9701 - val_loss: 0.1297 - val_accuracy: 0.9629\n"
     ]
    }
   ],
   "source": [
    "history = model.fit(X_train, y_train,\n",
    "                    validation_data = (X_test, y_test),\n",
    "                    epochs = 10,\n",
    "                    validation_split = 0.1,\n",
    "                    batch_size = 32)"
   ]
  },
  {
   "cell_type": "markdown",
   "id": "87756c90-7674-4293-b126-52c79a9d5eed",
   "metadata": {},
   "source": [
    "Evaluate model"
   ]
  },
  {
   "cell_type": "code",
   "execution_count": 6,
   "id": "d8689695-65bf-4b52-b7b0-4a650c23eec0",
   "metadata": {
    "execution": {
     "iopub.execute_input": "2022-05-15T16:47:51.196020Z",
     "iopub.status.busy": "2022-05-15T16:47:51.195478Z",
     "iopub.status.idle": "2022-05-15T16:47:51.205321Z",
     "shell.execute_reply": "2022-05-15T16:47:51.204296Z",
     "shell.execute_reply.started": "2022-05-15T16:47:51.195965Z"
    },
    "tags": []
   },
   "outputs": [],
   "source": [
    "# > Evaluate model\n",
    "def evaluate(model, X_test, y_test, label_names):\n",
    "    # evaluate network\n",
    "    predictions = model.predict(X_test, batch_size=32)\n",
    "    # print classification report\n",
    "    print(predictions[0])\n",
    "    # print classification report\n",
    "    report = classification_report(y_test.argmax(axis=1), \n",
    "                                   predictions.argmax(axis=1), \n",
    "                                   target_names=label_names)\n",
    "    # Print metrics\n",
    "    print(report)\n",
    "    # Save metrics\n",
    "    #outpath = os.path.join(\"output\", \"tensorflow_report.txt\")\n",
    "    #with open(outpath, \"w\") as f:\n",
    "    #    f.write(report)"
   ]
  },
  {
   "cell_type": "code",
   "execution_count": 17,
   "id": "0121fc8a-8be2-48cb-94b6-3f65910fe217",
   "metadata": {
    "execution": {
     "iopub.execute_input": "2022-05-15T14:11:12.696850Z",
     "iopub.status.busy": "2022-05-15T14:11:12.696328Z",
     "iopub.status.idle": "2022-05-15T14:11:13.399960Z",
     "shell.execute_reply": "2022-05-15T14:11:13.399041Z",
     "shell.execute_reply.started": "2022-05-15T14:11:12.696801Z"
    }
   },
   "outputs": [
    {
     "name": "stdout",
     "output_type": "stream",
     "text": [
      "[1.3566627e-08 2.0288253e-09 6.0252928e-06 6.0445187e-04 3.6819141e-09\n",
      " 1.1664617e-05 5.8208915e-10 1.2170537e-08 9.9937564e-01 2.2069651e-06]\n",
      "              precision    recall  f1-score   support\n",
      "\n",
      "           0       0.98      0.98      0.98      1343\n",
      "           1       0.97      0.98      0.98      1600\n",
      "           2       0.96      0.96      0.96      1380\n",
      "           3       0.95      0.95      0.95      1433\n",
      "           4       0.96      0.95      0.96      1295\n",
      "           5       0.96      0.95      0.96      1273\n",
      "           6       0.97      0.97      0.97      1396\n",
      "           7       0.97      0.97      0.97      1503\n",
      "           8       0.96      0.94      0.95      1357\n",
      "           9       0.94      0.96      0.95      1420\n",
      "\n",
      "    accuracy                           0.96     14000\n",
      "   macro avg       0.96      0.96      0.96     14000\n",
      "weighted avg       0.96      0.96      0.96     14000\n",
      "\n"
     ]
    }
   ],
   "source": [
    "evaluate(model, X_test, y_test, label_names)"
   ]
  },
  {
   "cell_type": "markdown",
   "id": "f4da831e-4f4c-4749-8775-87f0688116f1",
   "metadata": {},
   "source": [
    "__Try to also load cifar 10__"
   ]
  },
  {
   "cell_type": "code",
   "execution_count": 8,
   "id": "76638888-9c21-4340-bb7e-cf1f5f465eaf",
   "metadata": {
    "execution": {
     "iopub.execute_input": "2022-05-15T16:50:11.719002Z",
     "iopub.status.busy": "2022-05-15T16:50:11.718475Z",
     "iopub.status.idle": "2022-05-15T16:50:11.727587Z",
     "shell.execute_reply": "2022-05-15T16:50:11.726426Z",
     "shell.execute_reply.started": "2022-05-15T16:50:11.718951Z"
    },
    "tags": []
   },
   "outputs": [],
   "source": [
    "# > Load data \n",
    "def load_data():\n",
    "    # Print info \n",
    "    print(\"[info] Loading data...\")\n",
    "    # Load data \n",
    "    X, y = fetch_openml(\"mnist_784\", return_X_y=True)\n",
    "    # Get label names \n",
    "    label_names = sorted(y.unique())\n",
    "    # Print info\n",
    "    print(\"[info] Data loaded\")\n",
    "    \n",
    "    return (X, y, label_names)"
   ]
  },
  {
   "cell_type": "code",
   "execution_count": 10,
   "id": "d93ceb03-dd63-4c3e-971a-8931de8155e3",
   "metadata": {
    "execution": {
     "iopub.execute_input": "2022-05-16T10:02:42.361959Z",
     "iopub.status.busy": "2022-05-16T10:02:42.361416Z",
     "iopub.status.idle": "2022-05-16T10:02:42.369243Z",
     "shell.execute_reply": "2022-05-16T10:02:42.368168Z",
     "shell.execute_reply.started": "2022-05-16T10:02:42.361912Z"
    },
    "tags": []
   },
   "outputs": [],
   "source": [
    "# > Prepare data\n",
    "def normalize(X_train, X_test):\n",
    "    # Scaling the features\n",
    "    X_train_scaled = X_train / 255\n",
    "    X_test_scaled = X_test / 255\n",
    "    \n",
    "    return (X_train_scaled, X_test_scaled)"
   ]
  },
  {
   "cell_type": "code",
   "execution_count": 8,
   "id": "01ff3e28-396e-4ec6-928c-918600688325",
   "metadata": {
    "execution": {
     "iopub.execute_input": "2022-05-16T10:02:34.622380Z",
     "iopub.status.busy": "2022-05-16T10:02:34.621836Z",
     "iopub.status.idle": "2022-05-16T10:02:34.633127Z",
     "shell.execute_reply": "2022-05-16T10:02:34.632140Z",
     "shell.execute_reply.started": "2022-05-16T10:02:34.622332Z"
    },
    "tags": []
   },
   "outputs": [],
   "source": [
    "def load_mnist():\n",
    "    # Print info \n",
    "    print(\"[info] Loading data...\")\n",
    "    # Load data \n",
    "    X, y = fetch_openml(\"mnist_784\", return_X_y=True)\n",
    "    # Get label names \n",
    "    label_names = sorted(y.unique())\n",
    "    # Print info\n",
    "    print(\"[info] Data loaded\")\n",
    "    \n",
    "    # Converting X and y to numpy arrays\n",
    "    X = np.array(X)\n",
    "    y = np.array(y)\n",
    "    \n",
    "    # Splitting data \n",
    "    X_train, X_test, y_train, y_test = train_test_split(X, y,\n",
    "                                                        random_state=42,\n",
    "                                                        test_size = 0.2)\n",
    "    return (X_train, X_test, y_train, y_test, label_names)\n",
    "    "
   ]
  },
  {
   "cell_type": "code",
   "execution_count": 8,
   "id": "ebbb742b-806b-4a4a-8d47-412b5ea9251b",
   "metadata": {
    "execution": {
     "iopub.execute_input": "2022-05-17T16:48:45.102444Z",
     "iopub.status.busy": "2022-05-17T16:48:45.101686Z",
     "iopub.status.idle": "2022-05-17T16:48:45.111739Z",
     "shell.execute_reply": "2022-05-17T16:48:45.110755Z",
     "shell.execute_reply.started": "2022-05-17T16:48:45.102390Z"
    },
    "tags": []
   },
   "outputs": [],
   "source": [
    "# > Load cifar-10 data\n",
    "def load_cifar():\n",
    "    # Print info\n",
    "    print(\"[INFO] loading data...\")\n",
    "    # Load data\n",
    "    (X_train, y_train), (X_test, y_test) = cifar10.load_data()\n",
    "    # Initialize label names\n",
    "    label_names = [\"airplane\", \"automobile\", \"bird\", \"cat\", \"deer\", \"dog\", \"frog\", \"horse\", \"ship\", \"truck\"]\n",
    "    # Print info\n",
    "    print(\"[INFO] Data loaded\")\n",
    "    \n",
    "    return (X_train, X_test, y_train, y_test, label_names)"
   ]
  },
  {
   "cell_type": "code",
   "execution_count": 9,
   "id": "9d885b0b-5bcb-4c83-96c8-b50e3daa7bfe",
   "metadata": {
    "execution": {
     "iopub.execute_input": "2022-05-17T16:48:51.487219Z",
     "iopub.status.busy": "2022-05-17T16:48:51.486662Z",
     "iopub.status.idle": "2022-05-17T16:49:00.960097Z",
     "shell.execute_reply": "2022-05-17T16:49:00.959380Z",
     "shell.execute_reply.started": "2022-05-17T16:48:51.487166Z"
    },
    "tags": []
   },
   "outputs": [
    {
     "name": "stdout",
     "output_type": "stream",
     "text": [
      "[INFO] loading data...\n",
      "Downloading data from https://www.cs.toronto.edu/~kriz/cifar-10-python.tar.gz\n",
      "170498071/170498071 [==============================] - 7s 0us/step\n",
      "[INFO] Data loaded\n"
     ]
    }
   ],
   "source": [
    "X_train, X_test, y_train, y_test, label_names = load_cifar()"
   ]
  },
  {
   "cell_type": "code",
   "execution_count": 10,
   "id": "60b827d2-a94f-4637-a260-b702db112d69",
   "metadata": {
    "execution": {
     "iopub.execute_input": "2022-05-17T16:49:01.009733Z",
     "iopub.status.busy": "2022-05-17T16:49:01.009607Z",
     "iopub.status.idle": "2022-05-17T16:49:01.014616Z",
     "shell.execute_reply": "2022-05-17T16:49:01.014107Z",
     "shell.execute_reply.started": "2022-05-17T16:49:01.009718Z"
    },
    "tags": []
   },
   "outputs": [
    {
     "data": {
      "text/plain": [
       "(50000, 32, 32, 3)"
      ]
     },
     "execution_count": 10,
     "metadata": {},
     "output_type": "execute_result"
    }
   ],
   "source": [
    "X_train.shape"
   ]
  },
  {
   "cell_type": "code",
   "execution_count": 12,
   "id": "0743b4f4-1303-4872-863d-d3d3a22202fb",
   "metadata": {
    "execution": {
     "iopub.execute_input": "2022-05-17T16:49:24.629188Z",
     "iopub.status.busy": "2022-05-17T16:49:24.628650Z",
     "iopub.status.idle": "2022-05-17T16:49:24.637211Z",
     "shell.execute_reply": "2022-05-17T16:49:24.636207Z",
     "shell.execute_reply.started": "2022-05-17T16:49:24.629138Z"
    },
    "tags": []
   },
   "outputs": [
    {
     "data": {
      "text/plain": [
       "numpy.ndarray"
      ]
     },
     "execution_count": 12,
     "metadata": {},
     "output_type": "execute_result"
    }
   ],
   "source": [
    "type(y_train)"
   ]
  },
  {
   "cell_type": "code",
   "execution_count": 14,
   "id": "d8dbc3d3-cf91-4861-b07c-9e0dc8921ee7",
   "metadata": {
    "execution": {
     "iopub.execute_input": "2022-05-17T16:49:40.466829Z",
     "iopub.status.busy": "2022-05-17T16:49:40.466308Z",
     "iopub.status.idle": "2022-05-17T16:49:40.475278Z",
     "shell.execute_reply": "2022-05-17T16:49:40.474404Z",
     "shell.execute_reply.started": "2022-05-17T16:49:40.466780Z"
    },
    "tags": []
   },
   "outputs": [
    {
     "data": {
      "text/plain": [
       "(50000, 1)"
      ]
     },
     "execution_count": 14,
     "metadata": {},
     "output_type": "execute_result"
    }
   ],
   "source": [
    "y_train.shape"
   ]
  },
  {
   "cell_type": "code",
   "execution_count": 15,
   "id": "99235a2f-d14d-4d7e-9bb2-e7e44c18d902",
   "metadata": {
    "execution": {
     "iopub.execute_input": "2022-05-17T16:50:14.903639Z",
     "iopub.status.busy": "2022-05-17T16:50:14.903100Z",
     "iopub.status.idle": "2022-05-17T16:50:14.914741Z",
     "shell.execute_reply": "2022-05-17T16:50:14.913716Z",
     "shell.execute_reply.started": "2022-05-17T16:50:14.903589Z"
    }
   },
   "outputs": [
    {
     "data": {
      "text/plain": [
       "0    5\n",
       "1    0\n",
       "2    4\n",
       "3    1\n",
       "4    9\n",
       "5    2\n",
       "6    1\n",
       "7    3\n",
       "8    1\n",
       "9    4\n",
       "Name: class, dtype: category\n",
       "Categories (10, object): ['0', '1', '2', '3', ..., '6', '7', '8', '9']"
      ]
     },
     "execution_count": 15,
     "metadata": {},
     "output_type": "execute_result"
    }
   ],
   "source": [
    "y[:10]"
   ]
  },
  {
   "cell_type": "code",
   "execution_count": 88,
   "id": "2de593a2-3607-459a-8ca1-9096ddb53916",
   "metadata": {
    "execution": {
     "iopub.execute_input": "2022-05-16T11:01:49.537250Z",
     "iopub.status.busy": "2022-05-16T11:01:49.536773Z",
     "iopub.status.idle": "2022-05-16T11:01:49.543527Z",
     "shell.execute_reply": "2022-05-16T11:01:49.542486Z",
     "shell.execute_reply.started": "2022-05-16T11:01:49.537216Z"
    },
    "tags": []
   },
   "outputs": [
    {
     "data": {
      "text/plain": [
       "numpy.ndarray"
      ]
     },
     "execution_count": 88,
     "metadata": {},
     "output_type": "execute_result"
    }
   ],
   "source": [
    "type(X_train)"
   ]
  },
  {
   "cell_type": "code",
   "execution_count": 89,
   "id": "5bcb985f-2504-41e6-8e9e-e8daddde56e7",
   "metadata": {
    "execution": {
     "iopub.execute_input": "2022-05-16T11:01:53.946412Z",
     "iopub.status.busy": "2022-05-16T11:01:53.946012Z",
     "iopub.status.idle": "2022-05-16T11:01:53.952323Z",
     "shell.execute_reply": "2022-05-16T11:01:53.951667Z",
     "shell.execute_reply.started": "2022-05-16T11:01:53.946389Z"
    }
   },
   "outputs": [
    {
     "data": {
      "text/plain": [
       "array([[0., 0., 0., ..., 0., 0., 0.],\n",
       "       [0., 0., 0., ..., 0., 0., 0.],\n",
       "       [0., 0., 0., ..., 0., 0., 0.],\n",
       "       ...,\n",
       "       [0., 0., 0., ..., 0., 0., 0.],\n",
       "       [0., 0., 0., ..., 0., 0., 0.],\n",
       "       [0., 0., 0., ..., 0., 0., 0.]])"
      ]
     },
     "execution_count": 89,
     "metadata": {},
     "output_type": "execute_result"
    }
   ],
   "source": [
    "X_train"
   ]
  },
  {
   "cell_type": "markdown",
   "id": "cbf9d6bc-1433-42ec-8990-d143daabab01",
   "metadata": {
    "execution": {
     "iopub.execute_input": "2022-05-15T17:17:52.694131Z",
     "iopub.status.busy": "2022-05-15T17:17:52.693607Z",
     "iopub.status.idle": "2022-05-15T17:17:52.708426Z",
     "shell.execute_reply": "2022-05-15T17:17:52.707194Z",
     "shell.execute_reply.started": "2022-05-15T17:17:52.694080Z"
    }
   },
   "source": [
    "Create function that reshapes cifar 10"
   ]
  },
  {
   "cell_type": "code",
   "execution_count": 38,
   "id": "24222d49-811f-4fae-b0d2-e6ebb96b9823",
   "metadata": {
    "execution": {
     "iopub.execute_input": "2022-05-16T10:16:03.080290Z",
     "iopub.status.busy": "2022-05-16T10:16:03.079753Z",
     "iopub.status.idle": "2022-05-16T10:16:03.115749Z",
     "shell.execute_reply": "2022-05-16T10:16:03.114974Z",
     "shell.execute_reply.started": "2022-05-16T10:16:03.080241Z"
    },
    "tags": []
   },
   "outputs": [
    {
     "ename": "ValueError",
     "evalue": "all the input array dimensions for the concatenation axis must match exactly, but along dimension 1, the array at index 0 has size 0 and the array at index 1 has size 3",
     "output_type": "error",
     "traceback": [
      "\u001b[0;31m---------------------------------------------------------------------------\u001b[0m",
      "\u001b[0;31mValueError\u001b[0m                                Traceback (most recent call last)",
      "\u001b[0;32m/tmp/ipykernel_526/478362727.py\u001b[0m in \u001b[0;36m<module>\u001b[0;34m\u001b[0m\n\u001b[1;32m      3\u001b[0m \u001b[0marray\u001b[0m \u001b[0;34m=\u001b[0m \u001b[0mnp\u001b[0m\u001b[0;34m.\u001b[0m\u001b[0mempty\u001b[0m\u001b[0;34m(\u001b[0m\u001b[0;34m(\u001b[0m\u001b[0;36m0\u001b[0m\u001b[0;34m,\u001b[0m\u001b[0;36m0\u001b[0m\u001b[0;34m)\u001b[0m\u001b[0;34m,\u001b[0m \u001b[0mint\u001b[0m\u001b[0;34m)\u001b[0m\u001b[0;34m\u001b[0m\u001b[0;34m\u001b[0m\u001b[0m\n\u001b[1;32m      4\u001b[0m \u001b[0;34m\u001b[0m\u001b[0m\n\u001b[0;32m----> 5\u001b[0;31m \u001b[0marray\u001b[0m \u001b[0;34m=\u001b[0m \u001b[0mnp\u001b[0m\u001b[0;34m.\u001b[0m\u001b[0mappend\u001b[0m\u001b[0;34m(\u001b[0m\u001b[0marray\u001b[0m\u001b[0;34m,\u001b[0m \u001b[0mnp\u001b[0m\u001b[0;34m.\u001b[0m\u001b[0marray\u001b[0m\u001b[0;34m(\u001b[0m\u001b[0;34m[\u001b[0m\u001b[0;34m[\u001b[0m\u001b[0;36m1\u001b[0m\u001b[0;34m,\u001b[0m\u001b[0;36m3\u001b[0m\u001b[0;34m,\u001b[0m\u001b[0;36m5\u001b[0m\u001b[0;34m]\u001b[0m\u001b[0;34m]\u001b[0m\u001b[0;34m)\u001b[0m\u001b[0;34m,\u001b[0m \u001b[0maxis\u001b[0m\u001b[0;34m=\u001b[0m\u001b[0;36m0\u001b[0m\u001b[0;34m)\u001b[0m\u001b[0;34m\u001b[0m\u001b[0;34m\u001b[0m\u001b[0m\n\u001b[0m\u001b[1;32m      6\u001b[0m \u001b[0marray\u001b[0m \u001b[0;34m=\u001b[0m \u001b[0mnp\u001b[0m\u001b[0;34m.\u001b[0m\u001b[0mappend\u001b[0m\u001b[0;34m(\u001b[0m\u001b[0marray\u001b[0m\u001b[0;34m,\u001b[0m \u001b[0mnp\u001b[0m\u001b[0;34m.\u001b[0m\u001b[0marray\u001b[0m\u001b[0;34m(\u001b[0m\u001b[0;34m[\u001b[0m\u001b[0;34m[\u001b[0m\u001b[0;36m2\u001b[0m\u001b[0;34m,\u001b[0m\u001b[0;36m4\u001b[0m\u001b[0;34m,\u001b[0m\u001b[0;36m6\u001b[0m\u001b[0;34m]\u001b[0m\u001b[0;34m]\u001b[0m\u001b[0;34m)\u001b[0m\u001b[0;34m,\u001b[0m \u001b[0maxis\u001b[0m\u001b[0;34m=\u001b[0m\u001b[0;36m0\u001b[0m\u001b[0;34m)\u001b[0m\u001b[0;34m\u001b[0m\u001b[0;34m\u001b[0m\u001b[0m\n\u001b[1;32m      7\u001b[0m \u001b[0;34m\u001b[0m\u001b[0m\n",
      "\u001b[0;32m<__array_function__ internals>\u001b[0m in \u001b[0;36mappend\u001b[0;34m(*args, **kwargs)\u001b[0m\n",
      "\u001b[0;32m/opt/conda/lib/python3.9/site-packages/numpy/lib/function_base.py\u001b[0m in \u001b[0;36mappend\u001b[0;34m(arr, values, axis)\u001b[0m\n\u001b[1;32m   4815\u001b[0m         \u001b[0mvalues\u001b[0m \u001b[0;34m=\u001b[0m \u001b[0mravel\u001b[0m\u001b[0;34m(\u001b[0m\u001b[0mvalues\u001b[0m\u001b[0;34m)\u001b[0m\u001b[0;34m\u001b[0m\u001b[0;34m\u001b[0m\u001b[0m\n\u001b[1;32m   4816\u001b[0m         \u001b[0maxis\u001b[0m \u001b[0;34m=\u001b[0m \u001b[0marr\u001b[0m\u001b[0;34m.\u001b[0m\u001b[0mndim\u001b[0m\u001b[0;34m-\u001b[0m\u001b[0;36m1\u001b[0m\u001b[0;34m\u001b[0m\u001b[0;34m\u001b[0m\u001b[0m\n\u001b[0;32m-> 4817\u001b[0;31m     \u001b[0;32mreturn\u001b[0m \u001b[0mconcatenate\u001b[0m\u001b[0;34m(\u001b[0m\u001b[0;34m(\u001b[0m\u001b[0marr\u001b[0m\u001b[0;34m,\u001b[0m \u001b[0mvalues\u001b[0m\u001b[0;34m)\u001b[0m\u001b[0;34m,\u001b[0m \u001b[0maxis\u001b[0m\u001b[0;34m=\u001b[0m\u001b[0maxis\u001b[0m\u001b[0;34m)\u001b[0m\u001b[0;34m\u001b[0m\u001b[0;34m\u001b[0m\u001b[0m\n\u001b[0m\u001b[1;32m   4818\u001b[0m \u001b[0;34m\u001b[0m\u001b[0m\n\u001b[1;32m   4819\u001b[0m \u001b[0;34m\u001b[0m\u001b[0m\n",
      "\u001b[0;32m<__array_function__ internals>\u001b[0m in \u001b[0;36mconcatenate\u001b[0;34m(*args, **kwargs)\u001b[0m\n",
      "\u001b[0;31mValueError\u001b[0m: all the input array dimensions for the concatenation axis must match exactly, but along dimension 1, the array at index 0 has size 0 and the array at index 1 has size 3"
     ]
    }
   ],
   "source": [
    "import numpy as np\n",
    "\n",
    "array = np.empty((0,0), int)\n",
    "\n",
    "array = np.append(array, np.array([[1,3,5]]), axis=0)\n",
    "array = np.append(array, np.array([[2,4,6]]), axis=0)\n",
    "\n",
    "print(array)"
   ]
  },
  {
   "cell_type": "code",
   "execution_count": 24,
   "id": "499c1c49-822b-4cac-be82-31aa0cce0821",
   "metadata": {
    "execution": {
     "iopub.execute_input": "2022-05-16T10:08:46.246864Z",
     "iopub.status.busy": "2022-05-16T10:08:46.246339Z",
     "iopub.status.idle": "2022-05-16T10:08:46.253037Z",
     "shell.execute_reply": "2022-05-16T10:08:46.252068Z",
     "shell.execute_reply.started": "2022-05-16T10:08:46.246817Z"
    },
    "tags": []
   },
   "outputs": [],
   "source": [
    "array = np.empty((0,3), int)"
   ]
  },
  {
   "cell_type": "code",
   "execution_count": 39,
   "id": "33f15a96-becb-4335-b607-a8ccb7d3616b",
   "metadata": {
    "execution": {
     "iopub.execute_input": "2022-05-16T10:17:36.532594Z",
     "iopub.status.busy": "2022-05-16T10:17:36.532060Z",
     "iopub.status.idle": "2022-05-16T10:17:36.541150Z",
     "shell.execute_reply": "2022-05-16T10:17:36.540024Z",
     "shell.execute_reply.started": "2022-05-16T10:17:36.532545Z"
    }
   },
   "outputs": [
    {
     "data": {
      "text/plain": [
       "(50000, 32, 32, 3)"
      ]
     },
     "execution_count": 39,
     "metadata": {},
     "output_type": "execute_result"
    }
   ],
   "source": [
    "X_train.shape"
   ]
  },
  {
   "cell_type": "code",
   "execution_count": 48,
   "id": "c2876de5-6838-46ca-bb9e-1cab29afd95c",
   "metadata": {
    "execution": {
     "iopub.execute_input": "2022-05-16T10:24:03.744558Z",
     "iopub.status.busy": "2022-05-16T10:24:03.744020Z",
     "iopub.status.idle": "2022-05-16T10:24:03.756875Z",
     "shell.execute_reply": "2022-05-16T10:24:03.755912Z",
     "shell.execute_reply.started": "2022-05-16T10:24:03.744508Z"
    },
    "tags": []
   },
   "outputs": [
    {
     "name": "stderr",
     "output_type": "stream",
     "text": [
      "100%|██████████| 10/10 [00:00<00:00, 8456.26it/s]\n"
     ]
    }
   ],
   "source": [
    "X_flat = []\n",
    "for image in tqdm(X_train[:10]):\n",
    "    # Create dataset for logistic regression\n",
    "    gray = cv2.bitwise_not(cv2.cvtColor(image, cv2.COLOR_BGR2GRAY))\n",
    "    X_flat.append(gray.flatten())"
   ]
  },
  {
   "cell_type": "code",
   "execution_count": 49,
   "id": "4b4ce39b-d4fd-4db1-935f-7b6a5826793b",
   "metadata": {
    "execution": {
     "iopub.execute_input": "2022-05-16T10:24:04.258283Z",
     "iopub.status.busy": "2022-05-16T10:24:04.257729Z",
     "iopub.status.idle": "2022-05-16T10:24:04.267006Z",
     "shell.execute_reply": "2022-05-16T10:24:04.266175Z",
     "shell.execute_reply.started": "2022-05-16T10:24:04.258237Z"
    },
    "tags": []
   },
   "outputs": [
    {
     "name": "stdout",
     "output_type": "stream",
     "text": [
      "[array([193, 210, 208, ...,  81, 143, 165], dtype=uint8), array([ 78, 120, 154, ..., 119, 118, 118], dtype=uint8), array([  0,   2,   2, ..., 171, 171, 170], dtype=uint8), array([234, 225, 224, ..., 213, 204, 195], dtype=uint8), array([ 71,  73,  66, ..., 176, 180, 178], dtype=uint8), array([147, 156, 153, ..., 204, 200, 195], dtype=uint8), array([ 90, 143, 124, ..., 157, 159, 128], dtype=uint8), array([220, 218, 211, ..., 128, 130, 133], dtype=uint8), array([ 64,  66,  68, ..., 156, 155, 155], dtype=uint8), array([133, 156, 166, ..., 146, 145, 145], dtype=uint8)]\n"
     ]
    }
   ],
   "source": [
    "print(X_flat)"
   ]
  },
  {
   "cell_type": "code",
   "execution_count": 51,
   "id": "d28ed4c5-15d9-409e-ae11-5ba2b15fdafa",
   "metadata": {
    "execution": {
     "iopub.execute_input": "2022-05-16T10:24:15.565553Z",
     "iopub.status.busy": "2022-05-16T10:24:15.565022Z",
     "iopub.status.idle": "2022-05-16T10:24:15.576114Z",
     "shell.execute_reply": "2022-05-16T10:24:15.575156Z",
     "shell.execute_reply.started": "2022-05-16T10:24:15.565506Z"
    },
    "tags": []
   },
   "outputs": [
    {
     "data": {
      "text/plain": [
       "[array([193, 210, 208, ...,  81, 143, 165], dtype=uint8),\n",
       " array([ 78, 120, 154, ..., 119, 118, 118], dtype=uint8),\n",
       " array([  0,   2,   2, ..., 171, 171, 170], dtype=uint8),\n",
       " array([234, 225, 224, ..., 213, 204, 195], dtype=uint8),\n",
       " array([ 71,  73,  66, ..., 176, 180, 178], dtype=uint8),\n",
       " array([147, 156, 153, ..., 204, 200, 195], dtype=uint8),\n",
       " array([ 90, 143, 124, ..., 157, 159, 128], dtype=uint8),\n",
       " array([220, 218, 211, ..., 128, 130, 133], dtype=uint8),\n",
       " array([ 64,  66,  68, ..., 156, 155, 155], dtype=uint8),\n",
       " array([133, 156, 166, ..., 146, 145, 145], dtype=uint8)]"
      ]
     },
     "execution_count": 51,
     "metadata": {},
     "output_type": "execute_result"
    }
   ],
   "source": [
    "X_flat"
   ]
  },
  {
   "cell_type": "code",
   "execution_count": 55,
   "id": "58c00bf7-38ee-449a-90f6-f74af07cf731",
   "metadata": {
    "execution": {
     "iopub.execute_input": "2022-05-16T10:26:19.562229Z",
     "iopub.status.busy": "2022-05-16T10:26:19.561704Z",
     "iopub.status.idle": "2022-05-16T10:26:19.602141Z",
     "shell.execute_reply": "2022-05-16T10:26:19.601559Z",
     "shell.execute_reply.started": "2022-05-16T10:26:19.562182Z"
    },
    "tags": []
   },
   "outputs": [],
   "source": [
    "X_flat_df = pd.DataFrame(X_flat)"
   ]
  },
  {
   "cell_type": "code",
   "execution_count": 61,
   "id": "4cefe300-e492-4faf-b42b-dc91ec607dcb",
   "metadata": {
    "execution": {
     "iopub.execute_input": "2022-05-16T10:27:12.642544Z",
     "iopub.status.busy": "2022-05-16T10:27:12.642024Z",
     "iopub.status.idle": "2022-05-16T10:27:12.662863Z",
     "shell.execute_reply": "2022-05-16T10:27:12.662256Z",
     "shell.execute_reply.started": "2022-05-16T10:27:12.642471Z"
    },
    "tags": []
   },
   "outputs": [
    {
     "data": {
      "text/html": [
       "<div>\n",
       "<style scoped>\n",
       "    .dataframe tbody tr th:only-of-type {\n",
       "        vertical-align: middle;\n",
       "    }\n",
       "\n",
       "    .dataframe tbody tr th {\n",
       "        vertical-align: top;\n",
       "    }\n",
       "\n",
       "    .dataframe thead th {\n",
       "        text-align: right;\n",
       "    }\n",
       "</style>\n",
       "<table border=\"1\" class=\"dataframe\">\n",
       "  <thead>\n",
       "    <tr style=\"text-align: right;\">\n",
       "      <th></th>\n",
       "      <th>0</th>\n",
       "      <th>1</th>\n",
       "      <th>2</th>\n",
       "      <th>3</th>\n",
       "      <th>4</th>\n",
       "      <th>5</th>\n",
       "      <th>6</th>\n",
       "      <th>7</th>\n",
       "      <th>8</th>\n",
       "      <th>9</th>\n",
       "      <th>...</th>\n",
       "      <th>1014</th>\n",
       "      <th>1015</th>\n",
       "      <th>1016</th>\n",
       "      <th>1017</th>\n",
       "      <th>1018</th>\n",
       "      <th>1019</th>\n",
       "      <th>1020</th>\n",
       "      <th>1021</th>\n",
       "      <th>1022</th>\n",
       "      <th>1023</th>\n",
       "    </tr>\n",
       "  </thead>\n",
       "  <tbody>\n",
       "    <tr>\n",
       "      <th>0</th>\n",
       "      <td>-63</td>\n",
       "      <td>-46</td>\n",
       "      <td>-48</td>\n",
       "      <td>-53</td>\n",
       "      <td>-71</td>\n",
       "      <td>-87</td>\n",
       "      <td>-102</td>\n",
       "      <td>-106</td>\n",
       "      <td>-113</td>\n",
       "      <td>-116</td>\n",
       "      <td>...</td>\n",
       "      <td>-84</td>\n",
       "      <td>-85</td>\n",
       "      <td>-92</td>\n",
       "      <td>-83</td>\n",
       "      <td>-65</td>\n",
       "      <td>-76</td>\n",
       "      <td>122</td>\n",
       "      <td>81</td>\n",
       "      <td>-113</td>\n",
       "      <td>-91</td>\n",
       "    </tr>\n",
       "    <tr>\n",
       "      <th>1</th>\n",
       "      <td>78</td>\n",
       "      <td>120</td>\n",
       "      <td>-102</td>\n",
       "      <td>-102</td>\n",
       "      <td>122</td>\n",
       "      <td>86</td>\n",
       "      <td>61</td>\n",
       "      <td>54</td>\n",
       "      <td>101</td>\n",
       "      <td>-117</td>\n",
       "      <td>...</td>\n",
       "      <td>-23</td>\n",
       "      <td>-46</td>\n",
       "      <td>-66</td>\n",
       "      <td>-94</td>\n",
       "      <td>-117</td>\n",
       "      <td>125</td>\n",
       "      <td>122</td>\n",
       "      <td>119</td>\n",
       "      <td>118</td>\n",
       "      <td>118</td>\n",
       "    </tr>\n",
       "    <tr>\n",
       "      <th>2</th>\n",
       "      <td>0</td>\n",
       "      <td>2</td>\n",
       "      <td>2</td>\n",
       "      <td>2</td>\n",
       "      <td>2</td>\n",
       "      <td>2</td>\n",
       "      <td>2</td>\n",
       "      <td>2</td>\n",
       "      <td>2</td>\n",
       "      <td>2</td>\n",
       "      <td>...</td>\n",
       "      <td>-77</td>\n",
       "      <td>-82</td>\n",
       "      <td>-79</td>\n",
       "      <td>-68</td>\n",
       "      <td>-65</td>\n",
       "      <td>-71</td>\n",
       "      <td>-79</td>\n",
       "      <td>-85</td>\n",
       "      <td>-85</td>\n",
       "      <td>-86</td>\n",
       "    </tr>\n",
       "    <tr>\n",
       "      <th>3</th>\n",
       "      <td>-22</td>\n",
       "      <td>-31</td>\n",
       "      <td>-32</td>\n",
       "      <td>-34</td>\n",
       "      <td>-36</td>\n",
       "      <td>-34</td>\n",
       "      <td>-35</td>\n",
       "      <td>-20</td>\n",
       "      <td>-24</td>\n",
       "      <td>-27</td>\n",
       "      <td>...</td>\n",
       "      <td>-75</td>\n",
       "      <td>-58</td>\n",
       "      <td>-75</td>\n",
       "      <td>-62</td>\n",
       "      <td>-68</td>\n",
       "      <td>-69</td>\n",
       "      <td>-53</td>\n",
       "      <td>-43</td>\n",
       "      <td>-52</td>\n",
       "      <td>-61</td>\n",
       "    </tr>\n",
       "    <tr>\n",
       "      <th>4</th>\n",
       "      <td>71</td>\n",
       "      <td>73</td>\n",
       "      <td>66</td>\n",
       "      <td>58</td>\n",
       "      <td>54</td>\n",
       "      <td>55</td>\n",
       "      <td>53</td>\n",
       "      <td>55</td>\n",
       "      <td>55</td>\n",
       "      <td>56</td>\n",
       "      <td>...</td>\n",
       "      <td>-90</td>\n",
       "      <td>-87</td>\n",
       "      <td>-84</td>\n",
       "      <td>-81</td>\n",
       "      <td>-81</td>\n",
       "      <td>-77</td>\n",
       "      <td>-76</td>\n",
       "      <td>-80</td>\n",
       "      <td>-76</td>\n",
       "      <td>-78</td>\n",
       "    </tr>\n",
       "  </tbody>\n",
       "</table>\n",
       "<p>5 rows × 1024 columns</p>\n",
       "</div>"
      ],
      "text/plain": [
       "   0     1     2     3     4     5     6     7     8     9     ...  1014  \\\n",
       "0   -63   -46   -48   -53   -71   -87  -102  -106  -113  -116  ...   -84   \n",
       "1    78   120  -102  -102   122    86    61    54   101  -117  ...   -23   \n",
       "2     0     2     2     2     2     2     2     2     2     2  ...   -77   \n",
       "3   -22   -31   -32   -34   -36   -34   -35   -20   -24   -27  ...   -75   \n",
       "4    71    73    66    58    54    55    53    55    55    56  ...   -90   \n",
       "\n",
       "   1015  1016  1017  1018  1019  1020  1021  1022  1023  \n",
       "0   -85   -92   -83   -65   -76   122    81  -113   -91  \n",
       "1   -46   -66   -94  -117   125   122   119   118   118  \n",
       "2   -82   -79   -68   -65   -71   -79   -85   -85   -86  \n",
       "3   -58   -75   -62   -68   -69   -53   -43   -52   -61  \n",
       "4   -87   -84   -81   -81   -77   -76   -80   -76   -78  \n",
       "\n",
       "[5 rows x 1024 columns]"
      ]
     },
     "execution_count": 61,
     "metadata": {},
     "output_type": "execute_result"
    }
   ],
   "source": [
    "X_flat_df.head()"
   ]
  },
  {
   "cell_type": "code",
   "execution_count": 63,
   "id": "9a736a5f-5866-4535-8edf-9fedfa14154e",
   "metadata": {
    "execution": {
     "iopub.execute_input": "2022-05-16T10:28:14.007412Z",
     "iopub.status.busy": "2022-05-16T10:28:14.006890Z",
     "iopub.status.idle": "2022-05-16T10:28:14.015535Z",
     "shell.execute_reply": "2022-05-16T10:28:14.014547Z",
     "shell.execute_reply.started": "2022-05-16T10:28:14.007361Z"
    },
    "tags": []
   },
   "outputs": [
    {
     "data": {
      "text/plain": [
       "1024"
      ]
     },
     "execution_count": 63,
     "metadata": {},
     "output_type": "execute_result"
    }
   ],
   "source": [
    "32*32"
   ]
  },
  {
   "cell_type": "code",
   "execution_count": 99,
   "id": "a11b7cd7-28a9-4323-b461-ca209ba3771b",
   "metadata": {
    "execution": {
     "iopub.execute_input": "2022-05-16T11:05:36.785826Z",
     "iopub.status.busy": "2022-05-16T11:05:36.785331Z",
     "iopub.status.idle": "2022-05-16T11:05:36.791439Z",
     "shell.execute_reply": "2022-05-16T11:05:36.790739Z",
     "shell.execute_reply.started": "2022-05-16T11:05:36.785789Z"
    },
    "tags": []
   },
   "outputs": [],
   "source": [
    "def reshape_data(X):\n",
    "    # Define empthy list \n",
    "    X_flat = []\n",
    "    # For each image in the file...\n",
    "    for image in tqdm(X):\n",
    "        # Convert to grayscale\n",
    "        gray = cv2.bitwise_not(cv2.cvtColor(image, cv2.COLOR_BGR2GRAY))\n",
    "        # Flatten and append to list \n",
    "        X_flat.append(np.array(gray.flatten()))\n",
    "    # Convert to dataframe\n",
    "    X_flat_df = np.array(X_flat)\n",
    "    \n",
    "    return X_flat_df"
   ]
  },
  {
   "cell_type": "code",
   "execution_count": 67,
   "id": "86d11fd2-233e-4aa5-96bd-22db8f346970",
   "metadata": {
    "execution": {
     "iopub.execute_input": "2022-05-16T10:32:21.548460Z",
     "iopub.status.busy": "2022-05-16T10:32:21.547938Z",
     "iopub.status.idle": "2022-05-16T10:32:21.590698Z",
     "shell.execute_reply": "2022-05-16T10:32:21.589721Z",
     "shell.execute_reply.started": "2022-05-16T10:32:21.548412Z"
    },
    "tags": []
   },
   "outputs": [
    {
     "name": "stderr",
     "output_type": "stream",
     "text": [
      "100%|██████████| 10/10 [00:00<00:00, 6685.22it/s]\n"
     ]
    }
   ],
   "source": [
    "X_flat = reshape_data(X_train[:10])"
   ]
  },
  {
   "cell_type": "code",
   "execution_count": 68,
   "id": "a6601614-4405-4871-b504-2c0f41325d9f",
   "metadata": {
    "execution": {
     "iopub.execute_input": "2022-05-16T10:32:26.598795Z",
     "iopub.status.busy": "2022-05-16T10:32:26.598250Z",
     "iopub.status.idle": "2022-05-16T10:32:26.620457Z",
     "shell.execute_reply": "2022-05-16T10:32:26.619824Z",
     "shell.execute_reply.started": "2022-05-16T10:32:26.598746Z"
    }
   },
   "outputs": [
    {
     "data": {
      "text/html": [
       "<div>\n",
       "<style scoped>\n",
       "    .dataframe tbody tr th:only-of-type {\n",
       "        vertical-align: middle;\n",
       "    }\n",
       "\n",
       "    .dataframe tbody tr th {\n",
       "        vertical-align: top;\n",
       "    }\n",
       "\n",
       "    .dataframe thead th {\n",
       "        text-align: right;\n",
       "    }\n",
       "</style>\n",
       "<table border=\"1\" class=\"dataframe\">\n",
       "  <thead>\n",
       "    <tr style=\"text-align: right;\">\n",
       "      <th></th>\n",
       "      <th>0</th>\n",
       "      <th>1</th>\n",
       "      <th>2</th>\n",
       "      <th>3</th>\n",
       "      <th>4</th>\n",
       "      <th>5</th>\n",
       "      <th>6</th>\n",
       "      <th>7</th>\n",
       "      <th>8</th>\n",
       "      <th>9</th>\n",
       "      <th>...</th>\n",
       "      <th>1014</th>\n",
       "      <th>1015</th>\n",
       "      <th>1016</th>\n",
       "      <th>1017</th>\n",
       "      <th>1018</th>\n",
       "      <th>1019</th>\n",
       "      <th>1020</th>\n",
       "      <th>1021</th>\n",
       "      <th>1022</th>\n",
       "      <th>1023</th>\n",
       "    </tr>\n",
       "  </thead>\n",
       "  <tbody>\n",
       "    <tr>\n",
       "      <th>0</th>\n",
       "      <td>-63</td>\n",
       "      <td>-46</td>\n",
       "      <td>-48</td>\n",
       "      <td>-53</td>\n",
       "      <td>-71</td>\n",
       "      <td>-87</td>\n",
       "      <td>-102</td>\n",
       "      <td>-106</td>\n",
       "      <td>-113</td>\n",
       "      <td>-116</td>\n",
       "      <td>...</td>\n",
       "      <td>-84</td>\n",
       "      <td>-85</td>\n",
       "      <td>-92</td>\n",
       "      <td>-83</td>\n",
       "      <td>-65</td>\n",
       "      <td>-76</td>\n",
       "      <td>122</td>\n",
       "      <td>81</td>\n",
       "      <td>-113</td>\n",
       "      <td>-91</td>\n",
       "    </tr>\n",
       "    <tr>\n",
       "      <th>1</th>\n",
       "      <td>78</td>\n",
       "      <td>120</td>\n",
       "      <td>-102</td>\n",
       "      <td>-102</td>\n",
       "      <td>122</td>\n",
       "      <td>86</td>\n",
       "      <td>61</td>\n",
       "      <td>54</td>\n",
       "      <td>101</td>\n",
       "      <td>-117</td>\n",
       "      <td>...</td>\n",
       "      <td>-23</td>\n",
       "      <td>-46</td>\n",
       "      <td>-66</td>\n",
       "      <td>-94</td>\n",
       "      <td>-117</td>\n",
       "      <td>125</td>\n",
       "      <td>122</td>\n",
       "      <td>119</td>\n",
       "      <td>118</td>\n",
       "      <td>118</td>\n",
       "    </tr>\n",
       "    <tr>\n",
       "      <th>2</th>\n",
       "      <td>0</td>\n",
       "      <td>2</td>\n",
       "      <td>2</td>\n",
       "      <td>2</td>\n",
       "      <td>2</td>\n",
       "      <td>2</td>\n",
       "      <td>2</td>\n",
       "      <td>2</td>\n",
       "      <td>2</td>\n",
       "      <td>2</td>\n",
       "      <td>...</td>\n",
       "      <td>-77</td>\n",
       "      <td>-82</td>\n",
       "      <td>-79</td>\n",
       "      <td>-68</td>\n",
       "      <td>-65</td>\n",
       "      <td>-71</td>\n",
       "      <td>-79</td>\n",
       "      <td>-85</td>\n",
       "      <td>-85</td>\n",
       "      <td>-86</td>\n",
       "    </tr>\n",
       "    <tr>\n",
       "      <th>3</th>\n",
       "      <td>-22</td>\n",
       "      <td>-31</td>\n",
       "      <td>-32</td>\n",
       "      <td>-34</td>\n",
       "      <td>-36</td>\n",
       "      <td>-34</td>\n",
       "      <td>-35</td>\n",
       "      <td>-20</td>\n",
       "      <td>-24</td>\n",
       "      <td>-27</td>\n",
       "      <td>...</td>\n",
       "      <td>-75</td>\n",
       "      <td>-58</td>\n",
       "      <td>-75</td>\n",
       "      <td>-62</td>\n",
       "      <td>-68</td>\n",
       "      <td>-69</td>\n",
       "      <td>-53</td>\n",
       "      <td>-43</td>\n",
       "      <td>-52</td>\n",
       "      <td>-61</td>\n",
       "    </tr>\n",
       "    <tr>\n",
       "      <th>4</th>\n",
       "      <td>71</td>\n",
       "      <td>73</td>\n",
       "      <td>66</td>\n",
       "      <td>58</td>\n",
       "      <td>54</td>\n",
       "      <td>55</td>\n",
       "      <td>53</td>\n",
       "      <td>55</td>\n",
       "      <td>55</td>\n",
       "      <td>56</td>\n",
       "      <td>...</td>\n",
       "      <td>-90</td>\n",
       "      <td>-87</td>\n",
       "      <td>-84</td>\n",
       "      <td>-81</td>\n",
       "      <td>-81</td>\n",
       "      <td>-77</td>\n",
       "      <td>-76</td>\n",
       "      <td>-80</td>\n",
       "      <td>-76</td>\n",
       "      <td>-78</td>\n",
       "    </tr>\n",
       "    <tr>\n",
       "      <th>5</th>\n",
       "      <td>-109</td>\n",
       "      <td>-100</td>\n",
       "      <td>-103</td>\n",
       "      <td>-128</td>\n",
       "      <td>121</td>\n",
       "      <td>106</td>\n",
       "      <td>-105</td>\n",
       "      <td>-49</td>\n",
       "      <td>-41</td>\n",
       "      <td>-44</td>\n",
       "      <td>...</td>\n",
       "      <td>-26</td>\n",
       "      <td>-29</td>\n",
       "      <td>-31</td>\n",
       "      <td>-33</td>\n",
       "      <td>-39</td>\n",
       "      <td>-44</td>\n",
       "      <td>-48</td>\n",
       "      <td>-52</td>\n",
       "      <td>-56</td>\n",
       "      <td>-61</td>\n",
       "    </tr>\n",
       "    <tr>\n",
       "      <th>6</th>\n",
       "      <td>90</td>\n",
       "      <td>-113</td>\n",
       "      <td>124</td>\n",
       "      <td>113</td>\n",
       "      <td>111</td>\n",
       "      <td>101</td>\n",
       "      <td>83</td>\n",
       "      <td>66</td>\n",
       "      <td>51</td>\n",
       "      <td>75</td>\n",
       "      <td>...</td>\n",
       "      <td>89</td>\n",
       "      <td>115</td>\n",
       "      <td>-115</td>\n",
       "      <td>-126</td>\n",
       "      <td>-125</td>\n",
       "      <td>-115</td>\n",
       "      <td>-116</td>\n",
       "      <td>-99</td>\n",
       "      <td>-97</td>\n",
       "      <td>-128</td>\n",
       "    </tr>\n",
       "    <tr>\n",
       "      <th>7</th>\n",
       "      <td>-36</td>\n",
       "      <td>-38</td>\n",
       "      <td>-45</td>\n",
       "      <td>-78</td>\n",
       "      <td>-79</td>\n",
       "      <td>-47</td>\n",
       "      <td>-47</td>\n",
       "      <td>-61</td>\n",
       "      <td>-74</td>\n",
       "      <td>-79</td>\n",
       "      <td>...</td>\n",
       "      <td>-118</td>\n",
       "      <td>-112</td>\n",
       "      <td>120</td>\n",
       "      <td>116</td>\n",
       "      <td>126</td>\n",
       "      <td>108</td>\n",
       "      <td>105</td>\n",
       "      <td>-128</td>\n",
       "      <td>-126</td>\n",
       "      <td>-123</td>\n",
       "    </tr>\n",
       "    <tr>\n",
       "      <th>8</th>\n",
       "      <td>64</td>\n",
       "      <td>66</td>\n",
       "      <td>68</td>\n",
       "      <td>68</td>\n",
       "      <td>65</td>\n",
       "      <td>62</td>\n",
       "      <td>63</td>\n",
       "      <td>71</td>\n",
       "      <td>69</td>\n",
       "      <td>77</td>\n",
       "      <td>...</td>\n",
       "      <td>39</td>\n",
       "      <td>44</td>\n",
       "      <td>51</td>\n",
       "      <td>70</td>\n",
       "      <td>-117</td>\n",
       "      <td>-85</td>\n",
       "      <td>-95</td>\n",
       "      <td>-100</td>\n",
       "      <td>-101</td>\n",
       "      <td>-101</td>\n",
       "    </tr>\n",
       "    <tr>\n",
       "      <th>9</th>\n",
       "      <td>-123</td>\n",
       "      <td>-100</td>\n",
       "      <td>-90</td>\n",
       "      <td>-98</td>\n",
       "      <td>-100</td>\n",
       "      <td>121</td>\n",
       "      <td>86</td>\n",
       "      <td>87</td>\n",
       "      <td>115</td>\n",
       "      <td>-90</td>\n",
       "      <td>...</td>\n",
       "      <td>-95</td>\n",
       "      <td>-96</td>\n",
       "      <td>-99</td>\n",
       "      <td>-101</td>\n",
       "      <td>-103</td>\n",
       "      <td>-106</td>\n",
       "      <td>-108</td>\n",
       "      <td>-110</td>\n",
       "      <td>-111</td>\n",
       "      <td>-111</td>\n",
       "    </tr>\n",
       "  </tbody>\n",
       "</table>\n",
       "<p>10 rows × 1024 columns</p>\n",
       "</div>"
      ],
      "text/plain": [
       "   0     1     2     3     4     5     6     7     8     9     ...  1014  \\\n",
       "0   -63   -46   -48   -53   -71   -87  -102  -106  -113  -116  ...   -84   \n",
       "1    78   120  -102  -102   122    86    61    54   101  -117  ...   -23   \n",
       "2     0     2     2     2     2     2     2     2     2     2  ...   -77   \n",
       "3   -22   -31   -32   -34   -36   -34   -35   -20   -24   -27  ...   -75   \n",
       "4    71    73    66    58    54    55    53    55    55    56  ...   -90   \n",
       "5  -109  -100  -103  -128   121   106  -105   -49   -41   -44  ...   -26   \n",
       "6    90  -113   124   113   111   101    83    66    51    75  ...    89   \n",
       "7   -36   -38   -45   -78   -79   -47   -47   -61   -74   -79  ...  -118   \n",
       "8    64    66    68    68    65    62    63    71    69    77  ...    39   \n",
       "9  -123  -100   -90   -98  -100   121    86    87   115   -90  ...   -95   \n",
       "\n",
       "   1015  1016  1017  1018  1019  1020  1021  1022  1023  \n",
       "0   -85   -92   -83   -65   -76   122    81  -113   -91  \n",
       "1   -46   -66   -94  -117   125   122   119   118   118  \n",
       "2   -82   -79   -68   -65   -71   -79   -85   -85   -86  \n",
       "3   -58   -75   -62   -68   -69   -53   -43   -52   -61  \n",
       "4   -87   -84   -81   -81   -77   -76   -80   -76   -78  \n",
       "5   -29   -31   -33   -39   -44   -48   -52   -56   -61  \n",
       "6   115  -115  -126  -125  -115  -116   -99   -97  -128  \n",
       "7  -112   120   116   126   108   105  -128  -126  -123  \n",
       "8    44    51    70  -117   -85   -95  -100  -101  -101  \n",
       "9   -96   -99  -101  -103  -106  -108  -110  -111  -111  \n",
       "\n",
       "[10 rows x 1024 columns]"
      ]
     },
     "execution_count": 68,
     "metadata": {},
     "output_type": "execute_result"
    }
   ],
   "source": [
    "X_flat"
   ]
  },
  {
   "cell_type": "code",
   "execution_count": 69,
   "id": "76babac5-2db7-4c00-b68e-231505ce22ed",
   "metadata": {
    "execution": {
     "iopub.execute_input": "2022-05-16T10:42:25.992413Z",
     "iopub.status.busy": "2022-05-16T10:42:25.991902Z",
     "iopub.status.idle": "2022-05-16T10:42:48.423243Z",
     "shell.execute_reply": "2022-05-16T10:42:48.421648Z",
     "shell.execute_reply.started": "2022-05-16T10:42:25.992367Z"
    }
   },
   "outputs": [
    {
     "name": "stderr",
     "output_type": "stream",
     "text": [
      "100%|██████████| 50000/50000 [00:00<00:00, 86684.43it/s]\n"
     ]
    }
   ],
   "source": [
    "X_train = reshape_data(X_train)"
   ]
  },
  {
   "cell_type": "code",
   "execution_count": 70,
   "id": "c27bb3fe-9c3f-429f-b4a7-bf09db311362",
   "metadata": {
    "execution": {
     "iopub.execute_input": "2022-05-16T10:42:48.480686Z",
     "iopub.status.busy": "2022-05-16T10:42:48.480562Z",
     "iopub.status.idle": "2022-05-16T10:42:48.494001Z",
     "shell.execute_reply": "2022-05-16T10:42:48.493498Z",
     "shell.execute_reply.started": "2022-05-16T10:42:48.480673Z"
    }
   },
   "outputs": [
    {
     "data": {
      "text/html": [
       "<div>\n",
       "<style scoped>\n",
       "    .dataframe tbody tr th:only-of-type {\n",
       "        vertical-align: middle;\n",
       "    }\n",
       "\n",
       "    .dataframe tbody tr th {\n",
       "        vertical-align: top;\n",
       "    }\n",
       "\n",
       "    .dataframe thead th {\n",
       "        text-align: right;\n",
       "    }\n",
       "</style>\n",
       "<table border=\"1\" class=\"dataframe\">\n",
       "  <thead>\n",
       "    <tr style=\"text-align: right;\">\n",
       "      <th></th>\n",
       "      <th>0</th>\n",
       "      <th>1</th>\n",
       "      <th>2</th>\n",
       "      <th>3</th>\n",
       "      <th>4</th>\n",
       "      <th>5</th>\n",
       "      <th>6</th>\n",
       "      <th>7</th>\n",
       "      <th>8</th>\n",
       "      <th>9</th>\n",
       "      <th>...</th>\n",
       "      <th>1014</th>\n",
       "      <th>1015</th>\n",
       "      <th>1016</th>\n",
       "      <th>1017</th>\n",
       "      <th>1018</th>\n",
       "      <th>1019</th>\n",
       "      <th>1020</th>\n",
       "      <th>1021</th>\n",
       "      <th>1022</th>\n",
       "      <th>1023</th>\n",
       "    </tr>\n",
       "  </thead>\n",
       "  <tbody>\n",
       "    <tr>\n",
       "      <th>0</th>\n",
       "      <td>-63</td>\n",
       "      <td>-46</td>\n",
       "      <td>-48</td>\n",
       "      <td>-53</td>\n",
       "      <td>-71</td>\n",
       "      <td>-87</td>\n",
       "      <td>-102</td>\n",
       "      <td>-106</td>\n",
       "      <td>-113</td>\n",
       "      <td>-116</td>\n",
       "      <td>...</td>\n",
       "      <td>-84</td>\n",
       "      <td>-85</td>\n",
       "      <td>-92</td>\n",
       "      <td>-83</td>\n",
       "      <td>-65</td>\n",
       "      <td>-76</td>\n",
       "      <td>122</td>\n",
       "      <td>81</td>\n",
       "      <td>-113</td>\n",
       "      <td>-91</td>\n",
       "    </tr>\n",
       "    <tr>\n",
       "      <th>1</th>\n",
       "      <td>78</td>\n",
       "      <td>120</td>\n",
       "      <td>-102</td>\n",
       "      <td>-102</td>\n",
       "      <td>122</td>\n",
       "      <td>86</td>\n",
       "      <td>61</td>\n",
       "      <td>54</td>\n",
       "      <td>101</td>\n",
       "      <td>-117</td>\n",
       "      <td>...</td>\n",
       "      <td>-23</td>\n",
       "      <td>-46</td>\n",
       "      <td>-66</td>\n",
       "      <td>-94</td>\n",
       "      <td>-117</td>\n",
       "      <td>125</td>\n",
       "      <td>122</td>\n",
       "      <td>119</td>\n",
       "      <td>118</td>\n",
       "      <td>118</td>\n",
       "    </tr>\n",
       "    <tr>\n",
       "      <th>2</th>\n",
       "      <td>0</td>\n",
       "      <td>2</td>\n",
       "      <td>2</td>\n",
       "      <td>2</td>\n",
       "      <td>2</td>\n",
       "      <td>2</td>\n",
       "      <td>2</td>\n",
       "      <td>2</td>\n",
       "      <td>2</td>\n",
       "      <td>2</td>\n",
       "      <td>...</td>\n",
       "      <td>-77</td>\n",
       "      <td>-82</td>\n",
       "      <td>-79</td>\n",
       "      <td>-68</td>\n",
       "      <td>-65</td>\n",
       "      <td>-71</td>\n",
       "      <td>-79</td>\n",
       "      <td>-85</td>\n",
       "      <td>-85</td>\n",
       "      <td>-86</td>\n",
       "    </tr>\n",
       "    <tr>\n",
       "      <th>3</th>\n",
       "      <td>-22</td>\n",
       "      <td>-31</td>\n",
       "      <td>-32</td>\n",
       "      <td>-34</td>\n",
       "      <td>-36</td>\n",
       "      <td>-34</td>\n",
       "      <td>-35</td>\n",
       "      <td>-20</td>\n",
       "      <td>-24</td>\n",
       "      <td>-27</td>\n",
       "      <td>...</td>\n",
       "      <td>-75</td>\n",
       "      <td>-58</td>\n",
       "      <td>-75</td>\n",
       "      <td>-62</td>\n",
       "      <td>-68</td>\n",
       "      <td>-69</td>\n",
       "      <td>-53</td>\n",
       "      <td>-43</td>\n",
       "      <td>-52</td>\n",
       "      <td>-61</td>\n",
       "    </tr>\n",
       "    <tr>\n",
       "      <th>4</th>\n",
       "      <td>71</td>\n",
       "      <td>73</td>\n",
       "      <td>66</td>\n",
       "      <td>58</td>\n",
       "      <td>54</td>\n",
       "      <td>55</td>\n",
       "      <td>53</td>\n",
       "      <td>55</td>\n",
       "      <td>55</td>\n",
       "      <td>56</td>\n",
       "      <td>...</td>\n",
       "      <td>-90</td>\n",
       "      <td>-87</td>\n",
       "      <td>-84</td>\n",
       "      <td>-81</td>\n",
       "      <td>-81</td>\n",
       "      <td>-77</td>\n",
       "      <td>-76</td>\n",
       "      <td>-80</td>\n",
       "      <td>-76</td>\n",
       "      <td>-78</td>\n",
       "    </tr>\n",
       "    <tr>\n",
       "      <th>...</th>\n",
       "      <td>...</td>\n",
       "      <td>...</td>\n",
       "      <td>...</td>\n",
       "      <td>...</td>\n",
       "      <td>...</td>\n",
       "      <td>...</td>\n",
       "      <td>...</td>\n",
       "      <td>...</td>\n",
       "      <td>...</td>\n",
       "      <td>...</td>\n",
       "      <td>...</td>\n",
       "      <td>...</td>\n",
       "      <td>...</td>\n",
       "      <td>...</td>\n",
       "      <td>...</td>\n",
       "      <td>...</td>\n",
       "      <td>...</td>\n",
       "      <td>...</td>\n",
       "      <td>...</td>\n",
       "      <td>...</td>\n",
       "      <td>...</td>\n",
       "    </tr>\n",
       "    <tr>\n",
       "      <th>49995</th>\n",
       "      <td>86</td>\n",
       "      <td>81</td>\n",
       "      <td>76</td>\n",
       "      <td>75</td>\n",
       "      <td>76</td>\n",
       "      <td>76</td>\n",
       "      <td>72</td>\n",
       "      <td>68</td>\n",
       "      <td>68</td>\n",
       "      <td>68</td>\n",
       "      <td>...</td>\n",
       "      <td>-61</td>\n",
       "      <td>-57</td>\n",
       "      <td>-53</td>\n",
       "      <td>-51</td>\n",
       "      <td>-53</td>\n",
       "      <td>-49</td>\n",
       "      <td>-47</td>\n",
       "      <td>-46</td>\n",
       "      <td>-43</td>\n",
       "      <td>-44</td>\n",
       "    </tr>\n",
       "    <tr>\n",
       "      <th>49996</th>\n",
       "      <td>43</td>\n",
       "      <td>41</td>\n",
       "      <td>39</td>\n",
       "      <td>37</td>\n",
       "      <td>37</td>\n",
       "      <td>40</td>\n",
       "      <td>45</td>\n",
       "      <td>48</td>\n",
       "      <td>46</td>\n",
       "      <td>44</td>\n",
       "      <td>...</td>\n",
       "      <td>117</td>\n",
       "      <td>111</td>\n",
       "      <td>109</td>\n",
       "      <td>103</td>\n",
       "      <td>107</td>\n",
       "      <td>102</td>\n",
       "      <td>99</td>\n",
       "      <td>101</td>\n",
       "      <td>96</td>\n",
       "      <td>97</td>\n",
       "    </tr>\n",
       "    <tr>\n",
       "      <th>49997</th>\n",
       "      <td>76</td>\n",
       "      <td>76</td>\n",
       "      <td>75</td>\n",
       "      <td>73</td>\n",
       "      <td>73</td>\n",
       "      <td>73</td>\n",
       "      <td>72</td>\n",
       "      <td>71</td>\n",
       "      <td>69</td>\n",
       "      <td>69</td>\n",
       "      <td>...</td>\n",
       "      <td>-73</td>\n",
       "      <td>-74</td>\n",
       "      <td>-83</td>\n",
       "      <td>-83</td>\n",
       "      <td>-77</td>\n",
       "      <td>-74</td>\n",
       "      <td>-68</td>\n",
       "      <td>-58</td>\n",
       "      <td>-48</td>\n",
       "      <td>-36</td>\n",
       "    </tr>\n",
       "    <tr>\n",
       "      <th>49998</th>\n",
       "      <td>38</td>\n",
       "      <td>41</td>\n",
       "      <td>42</td>\n",
       "      <td>42</td>\n",
       "      <td>43</td>\n",
       "      <td>45</td>\n",
       "      <td>45</td>\n",
       "      <td>45</td>\n",
       "      <td>44</td>\n",
       "      <td>45</td>\n",
       "      <td>...</td>\n",
       "      <td>87</td>\n",
       "      <td>80</td>\n",
       "      <td>76</td>\n",
       "      <td>75</td>\n",
       "      <td>72</td>\n",
       "      <td>74</td>\n",
       "      <td>77</td>\n",
       "      <td>74</td>\n",
       "      <td>71</td>\n",
       "      <td>70</td>\n",
       "    </tr>\n",
       "    <tr>\n",
       "      <th>49999</th>\n",
       "      <td>23</td>\n",
       "      <td>15</td>\n",
       "      <td>16</td>\n",
       "      <td>18</td>\n",
       "      <td>15</td>\n",
       "      <td>11</td>\n",
       "      <td>8</td>\n",
       "      <td>8</td>\n",
       "      <td>12</td>\n",
       "      <td>17</td>\n",
       "      <td>...</td>\n",
       "      <td>111</td>\n",
       "      <td>106</td>\n",
       "      <td>101</td>\n",
       "      <td>90</td>\n",
       "      <td>81</td>\n",
       "      <td>80</td>\n",
       "      <td>78</td>\n",
       "      <td>79</td>\n",
       "      <td>92</td>\n",
       "      <td>93</td>\n",
       "    </tr>\n",
       "  </tbody>\n",
       "</table>\n",
       "<p>50000 rows × 1024 columns</p>\n",
       "</div>"
      ],
      "text/plain": [
       "       0     1     2     3     4     5     6     7     8     9     ...  1014  \\\n",
       "0       -63   -46   -48   -53   -71   -87  -102  -106  -113  -116  ...   -84   \n",
       "1        78   120  -102  -102   122    86    61    54   101  -117  ...   -23   \n",
       "2         0     2     2     2     2     2     2     2     2     2  ...   -77   \n",
       "3       -22   -31   -32   -34   -36   -34   -35   -20   -24   -27  ...   -75   \n",
       "4        71    73    66    58    54    55    53    55    55    56  ...   -90   \n",
       "...     ...   ...   ...   ...   ...   ...   ...   ...   ...   ...  ...   ...   \n",
       "49995    86    81    76    75    76    76    72    68    68    68  ...   -61   \n",
       "49996    43    41    39    37    37    40    45    48    46    44  ...   117   \n",
       "49997    76    76    75    73    73    73    72    71    69    69  ...   -73   \n",
       "49998    38    41    42    42    43    45    45    45    44    45  ...    87   \n",
       "49999    23    15    16    18    15    11     8     8    12    17  ...   111   \n",
       "\n",
       "       1015  1016  1017  1018  1019  1020  1021  1022  1023  \n",
       "0       -85   -92   -83   -65   -76   122    81  -113   -91  \n",
       "1       -46   -66   -94  -117   125   122   119   118   118  \n",
       "2       -82   -79   -68   -65   -71   -79   -85   -85   -86  \n",
       "3       -58   -75   -62   -68   -69   -53   -43   -52   -61  \n",
       "4       -87   -84   -81   -81   -77   -76   -80   -76   -78  \n",
       "...     ...   ...   ...   ...   ...   ...   ...   ...   ...  \n",
       "49995   -57   -53   -51   -53   -49   -47   -46   -43   -44  \n",
       "49996   111   109   103   107   102    99   101    96    97  \n",
       "49997   -74   -83   -83   -77   -74   -68   -58   -48   -36  \n",
       "49998    80    76    75    72    74    77    74    71    70  \n",
       "49999   106   101    90    81    80    78    79    92    93  \n",
       "\n",
       "[50000 rows x 1024 columns]"
      ]
     },
     "execution_count": 70,
     "metadata": {},
     "output_type": "execute_result"
    }
   ],
   "source": [
    "X_test"
   ]
  },
  {
   "cell_type": "code",
   "execution_count": 108,
   "id": "632e31f2-0296-4705-ae85-0a85a028ba0c",
   "metadata": {
    "execution": {
     "iopub.execute_input": "2022-05-16T11:07:24.729591Z",
     "iopub.status.busy": "2022-05-16T11:07:24.729002Z",
     "iopub.status.idle": "2022-05-16T11:07:26.582942Z",
     "shell.execute_reply": "2022-05-16T11:07:26.582283Z",
     "shell.execute_reply.started": "2022-05-16T11:07:24.729541Z"
    },
    "tags": []
   },
   "outputs": [
    {
     "name": "stdout",
     "output_type": "stream",
     "text": [
      "[INFO] loading data...\n",
      "[INFO] Data loaded\n"
     ]
    },
    {
     "name": "stderr",
     "output_type": "stream",
     "text": [
      "100%|██████████| 50000/50000 [00:00<00:00, 72180.71it/s]\n",
      "100%|██████████| 10000/10000 [00:00<00:00, 75935.21it/s]\n"
     ]
    }
   ],
   "source": [
    "    # Loading data\n",
    "    X_train, X_test, y_train, y_test, label_names = load_cifar()\n",
    "    # Reshape data \n",
    "    X_train = reshape_data(X_train)\n",
    "    X_test = reshape_data(X_test)\n",
    "    # normalize data\n",
    "    X_train, X_test = normalize(X_train, X_test)"
   ]
  },
  {
   "cell_type": "code",
   "execution_count": 109,
   "id": "fbaffe8b-7f70-41ca-a391-d1bde6d7c1c4",
   "metadata": {
    "execution": {
     "iopub.execute_input": "2022-05-16T11:07:29.676448Z",
     "iopub.status.busy": "2022-05-16T11:07:29.675842Z",
     "iopub.status.idle": "2022-05-16T11:07:29.684108Z",
     "shell.execute_reply": "2022-05-16T11:07:29.683026Z",
     "shell.execute_reply.started": "2022-05-16T11:07:29.676402Z"
    },
    "tags": []
   },
   "outputs": [
    {
     "data": {
      "text/plain": [
       "numpy.ndarray"
      ]
     },
     "execution_count": 109,
     "metadata": {},
     "output_type": "execute_result"
    }
   ],
   "source": [
    "type(X_train)"
   ]
  },
  {
   "cell_type": "code",
   "execution_count": 113,
   "id": "8ab020fb-8a3b-47a2-94bb-d57246ead02e",
   "metadata": {
    "execution": {
     "iopub.execute_input": "2022-05-16T11:10:45.606863Z",
     "iopub.status.busy": "2022-05-16T11:10:45.606272Z",
     "iopub.status.idle": "2022-05-16T11:10:45.613967Z",
     "shell.execute_reply": "2022-05-16T11:10:45.613090Z",
     "shell.execute_reply.started": "2022-05-16T11:10:45.606816Z"
    },
    "tags": []
   },
   "outputs": [],
   "source": [
    "def train_model(X_train, y_train):\n",
    "    # Print info\n",
    "    print(\"[info] Training model...\")\n",
    "    # Initialyzing model\n",
    "    clf = LogisticRegression(multi_class=\"multinomial\")\n",
    "    # Training model \n",
    "    clf = LogisticRegression(penalty=\"none\",\n",
    "                             tol=0.1,\n",
    "                             solver=\"saga\",\n",
    "                             multi_class=\"multinomial\").fit(X_train, y_train.ravel())\n",
    "    return clf"
   ]
  },
  {
   "cell_type": "code",
   "execution_count": 114,
   "id": "2a59fbe8-57ca-42d2-9396-4a1e5301992d",
   "metadata": {
    "execution": {
     "iopub.execute_input": "2022-05-16T11:10:46.656666Z",
     "iopub.status.busy": "2022-05-16T11:10:46.656011Z",
     "iopub.status.idle": "2022-05-16T11:10:59.319189Z",
     "shell.execute_reply": "2022-05-16T11:10:59.318558Z",
     "shell.execute_reply.started": "2022-05-16T11:10:46.656617Z"
    },
    "tags": []
   },
   "outputs": [
    {
     "name": "stdout",
     "output_type": "stream",
     "text": [
      "[info] Training model...\n"
     ]
    },
    {
     "data": {
      "text/html": [
       "<style>#sk-container-id-3 {color: black;background-color: white;}#sk-container-id-3 pre{padding: 0;}#sk-container-id-3 div.sk-toggleable {background-color: white;}#sk-container-id-3 label.sk-toggleable__label {cursor: pointer;display: block;width: 100%;margin-bottom: 0;padding: 0.3em;box-sizing: border-box;text-align: center;}#sk-container-id-3 label.sk-toggleable__label-arrow:before {content: \"▸\";float: left;margin-right: 0.25em;color: #696969;}#sk-container-id-3 label.sk-toggleable__label-arrow:hover:before {color: black;}#sk-container-id-3 div.sk-estimator:hover label.sk-toggleable__label-arrow:before {color: black;}#sk-container-id-3 div.sk-toggleable__content {max-height: 0;max-width: 0;overflow: hidden;text-align: left;background-color: #f0f8ff;}#sk-container-id-3 div.sk-toggleable__content pre {margin: 0.2em;color: black;border-radius: 0.25em;background-color: #f0f8ff;}#sk-container-id-3 input.sk-toggleable__control:checked~div.sk-toggleable__content {max-height: 200px;max-width: 100%;overflow: auto;}#sk-container-id-3 input.sk-toggleable__control:checked~label.sk-toggleable__label-arrow:before {content: \"▾\";}#sk-container-id-3 div.sk-estimator input.sk-toggleable__control:checked~label.sk-toggleable__label {background-color: #d4ebff;}#sk-container-id-3 div.sk-label input.sk-toggleable__control:checked~label.sk-toggleable__label {background-color: #d4ebff;}#sk-container-id-3 input.sk-hidden--visually {border: 0;clip: rect(1px 1px 1px 1px);clip: rect(1px, 1px, 1px, 1px);height: 1px;margin: -1px;overflow: hidden;padding: 0;position: absolute;width: 1px;}#sk-container-id-3 div.sk-estimator {font-family: monospace;background-color: #f0f8ff;border: 1px dotted black;border-radius: 0.25em;box-sizing: border-box;margin-bottom: 0.5em;}#sk-container-id-3 div.sk-estimator:hover {background-color: #d4ebff;}#sk-container-id-3 div.sk-parallel-item::after {content: \"\";width: 100%;border-bottom: 1px solid gray;flex-grow: 1;}#sk-container-id-3 div.sk-label:hover label.sk-toggleable__label {background-color: #d4ebff;}#sk-container-id-3 div.sk-serial::before {content: \"\";position: absolute;border-left: 1px solid gray;box-sizing: border-box;top: 0;bottom: 0;left: 50%;z-index: 0;}#sk-container-id-3 div.sk-serial {display: flex;flex-direction: column;align-items: center;background-color: white;padding-right: 0.2em;padding-left: 0.2em;position: relative;}#sk-container-id-3 div.sk-item {position: relative;z-index: 1;}#sk-container-id-3 div.sk-parallel {display: flex;align-items: stretch;justify-content: center;background-color: white;position: relative;}#sk-container-id-3 div.sk-item::before, #sk-container-id-3 div.sk-parallel-item::before {content: \"\";position: absolute;border-left: 1px solid gray;box-sizing: border-box;top: 0;bottom: 0;left: 50%;z-index: -1;}#sk-container-id-3 div.sk-parallel-item {display: flex;flex-direction: column;z-index: 1;position: relative;background-color: white;}#sk-container-id-3 div.sk-parallel-item:first-child::after {align-self: flex-end;width: 50%;}#sk-container-id-3 div.sk-parallel-item:last-child::after {align-self: flex-start;width: 50%;}#sk-container-id-3 div.sk-parallel-item:only-child::after {width: 0;}#sk-container-id-3 div.sk-dashed-wrapped {border: 1px dashed gray;margin: 0 0.4em 0.5em 0.4em;box-sizing: border-box;padding-bottom: 0.4em;background-color: white;}#sk-container-id-3 div.sk-label label {font-family: monospace;font-weight: bold;display: inline-block;line-height: 1.2em;}#sk-container-id-3 div.sk-label-container {text-align: center;}#sk-container-id-3 div.sk-container {/* jupyter's `normalize.less` sets `[hidden] { display: none; }` but bootstrap.min.css set `[hidden] { display: none !important; }` so we also need the `!important` here to be able to override the default hidden behavior on the sphinx rendered scikit-learn.org. See: https://github.com/scikit-learn/scikit-learn/issues/21755 */display: inline-block !important;position: relative;}#sk-container-id-3 div.sk-text-repr-fallback {display: none;}</style><div id=\"sk-container-id-3\" class=\"sk-top-container\"><div class=\"sk-text-repr-fallback\"><pre>LogisticRegression(multi_class=&#x27;multinomial&#x27;, penalty=&#x27;none&#x27;, solver=&#x27;saga&#x27;,\n",
       "                   tol=0.1)</pre><b>In a Jupyter environment, please rerun this cell to show the HTML representation or trust the notebook. <br />On GitHub, the HTML representation is unable to render, please try loading this page with nbviewer.org.</b></div><div class=\"sk-container\" hidden><div class=\"sk-item\"><div class=\"sk-estimator sk-toggleable\"><input class=\"sk-toggleable__control sk-hidden--visually\" id=\"sk-estimator-id-3\" type=\"checkbox\" checked><label for=\"sk-estimator-id-3\" class=\"sk-toggleable__label sk-toggleable__label-arrow\">LogisticRegression</label><div class=\"sk-toggleable__content\"><pre>LogisticRegression(multi_class=&#x27;multinomial&#x27;, penalty=&#x27;none&#x27;, solver=&#x27;saga&#x27;,\n",
       "                   tol=0.1)</pre></div></div></div></div></div>"
      ],
      "text/plain": [
       "LogisticRegression(multi_class='multinomial', penalty='none', solver='saga',\n",
       "                   tol=0.1)"
      ]
     },
     "execution_count": 114,
     "metadata": {},
     "output_type": "execute_result"
    }
   ],
   "source": [
    "train_model(X_train, y_train)"
   ]
  },
  {
   "cell_type": "code",
   "execution_count": 116,
   "id": "1d710402-fc39-48f5-badb-694f98d69c81",
   "metadata": {
    "execution": {
     "iopub.execute_input": "2022-05-16T14:28:51.536595Z",
     "iopub.status.busy": "2022-05-16T14:28:51.536242Z",
     "iopub.status.idle": "2022-05-16T14:28:51.540958Z",
     "shell.execute_reply": "2022-05-16T14:28:51.540452Z",
     "shell.execute_reply.started": "2022-05-16T14:28:51.536569Z"
    },
    "tags": []
   },
   "outputs": [
    {
     "data": {
      "text/plain": [
       "numpy.ndarray"
      ]
     },
     "execution_count": 116,
     "metadata": {},
     "output_type": "execute_result"
    }
   ],
   "source": [
    "type(y_train)"
   ]
  },
  {
   "cell_type": "code",
   "execution_count": 119,
   "id": "91a48d41-f495-4ddc-98cc-ef5cb15f7843",
   "metadata": {
    "execution": {
     "iopub.execute_input": "2022-05-16T14:30:59.239801Z",
     "iopub.status.busy": "2022-05-16T14:30:59.239402Z",
     "iopub.status.idle": "2022-05-16T14:30:59.246985Z",
     "shell.execute_reply": "2022-05-16T14:30:59.246317Z",
     "shell.execute_reply.started": "2022-05-16T14:30:59.239777Z"
    },
    "tags": []
   },
   "outputs": [],
   "source": [
    "# > Create model\n",
    "def create_model(data_width):\n",
    "    # Print info \n",
    "    print(\"[INFO] Initializing model\")\n",
    "    \n",
    "    # define simple architecture 784x256x128x10\n",
    "    model = Sequential()\n",
    "    model.add(Dense(256, input_shape=(data_width,), activation=\"relu\"))\n",
    "    model.add(Dense(128, activation=\"relu\"))\n",
    "    model.add(Dense(10, activation=\"softmax\")) #softmax generalises LogReg for multiclass tasks\n",
    "    \n",
    "    # define the gradient descent\n",
    "    sgd = SGD(0.01)\n",
    "    # compile model\n",
    "    model.compile(loss=\"categorical_crossentropy\",\n",
    "                  optimizer=sgd,\n",
    "                  metrics=[\"accuracy\"])\n",
    "\n",
    "    # define the gradient descent\n",
    "    sgd = SGD(0.01)\n",
    "    # compile model\n",
    "    model.compile(loss=\"categorical_crossentropy\",\n",
    "                  optimizer=sgd,\n",
    "                  metrics=[\"accuracy\"])\n",
    "    \n",
    "    # Print info\n",
    "    print(\"[INFO] Model summary:\")\n",
    "    model.summary()\n",
    "    \n",
    "    return model"
   ]
  },
  {
   "cell_type": "code",
   "execution_count": 120,
   "id": "72af3a8c-8e73-4dff-ab13-2bb51cc1bbf3",
   "metadata": {
    "execution": {
     "iopub.execute_input": "2022-05-16T14:31:00.027338Z",
     "iopub.status.busy": "2022-05-16T14:31:00.026521Z",
     "iopub.status.idle": "2022-05-16T14:31:00.284744Z",
     "shell.execute_reply": "2022-05-16T14:31:00.283896Z",
     "shell.execute_reply.started": "2022-05-16T14:31:00.027290Z"
    },
    "tags": []
   },
   "outputs": [
    {
     "name": "stdout",
     "output_type": "stream",
     "text": [
      "[INFO] Initializing model\n",
      "[INFO] Model summary:\n",
      "Model: \"sequential_1\"\n",
      "_________________________________________________________________\n",
      " Layer (type)                Output Shape              Param #   \n",
      "=================================================================\n",
      " dense_3 (Dense)             (None, 256)               262400    \n",
      "                                                                 \n",
      " dense_4 (Dense)             (None, 128)               32896     \n",
      "                                                                 \n",
      " dense_5 (Dense)             (None, 10)                1290      \n",
      "                                                                 \n",
      "=================================================================\n",
      "Total params: 296,586\n",
      "Trainable params: 296,586\n",
      "Non-trainable params: 0\n",
      "_________________________________________________________________\n",
      "Epoch 1/3\n"
     ]
    },
    {
     "ename": "ValueError",
     "evalue": "in user code:\n\n    File \"/opt/conda/lib/python3.9/site-packages/keras/engine/training.py\", line 1021, in train_function  *\n        return step_function(self, iterator)\n    File \"/opt/conda/lib/python3.9/site-packages/keras/engine/training.py\", line 1010, in step_function  **\n        outputs = model.distribute_strategy.run(run_step, args=(data,))\n    File \"/opt/conda/lib/python3.9/site-packages/keras/engine/training.py\", line 1000, in run_step  **\n        outputs = model.train_step(data)\n    File \"/opt/conda/lib/python3.9/site-packages/keras/engine/training.py\", line 860, in train_step\n        loss = self.compute_loss(x, y, y_pred, sample_weight)\n    File \"/opt/conda/lib/python3.9/site-packages/keras/engine/training.py\", line 918, in compute_loss\n        return self.compiled_loss(\n    File \"/opt/conda/lib/python3.9/site-packages/keras/engine/compile_utils.py\", line 201, in __call__\n        loss_value = loss_obj(y_t, y_p, sample_weight=sw)\n    File \"/opt/conda/lib/python3.9/site-packages/keras/losses.py\", line 141, in __call__\n        losses = call_fn(y_true, y_pred)\n    File \"/opt/conda/lib/python3.9/site-packages/keras/losses.py\", line 245, in call  **\n        return ag_fn(y_true, y_pred, **self._fn_kwargs)\n    File \"/opt/conda/lib/python3.9/site-packages/keras/losses.py\", line 1789, in categorical_crossentropy\n        return backend.categorical_crossentropy(\n    File \"/opt/conda/lib/python3.9/site-packages/keras/backend.py\", line 5083, in categorical_crossentropy\n        target.shape.assert_is_compatible_with(output.shape)\n\n    ValueError: Shapes (None, 1) and (None, 10) are incompatible\n",
     "output_type": "error",
     "traceback": [
      "\u001b[0;31m---------------------------------------------------------------------------\u001b[0m",
      "\u001b[0;31mValueError\u001b[0m                                Traceback (most recent call last)",
      "\u001b[0;32m/tmp/ipykernel_526/1037296843.py\u001b[0m in \u001b[0;36m<module>\u001b[0;34m\u001b[0m\n\u001b[1;32m      2\u001b[0m \u001b[0mmodel\u001b[0m \u001b[0;34m=\u001b[0m \u001b[0mcreate_model\u001b[0m\u001b[0;34m(\u001b[0m\u001b[0;36m1024\u001b[0m\u001b[0;34m)\u001b[0m\u001b[0;34m\u001b[0m\u001b[0;34m\u001b[0m\u001b[0m\n\u001b[1;32m      3\u001b[0m \u001b[0;31m# Train model with extra validation split\u001b[0m\u001b[0;34m\u001b[0m\u001b[0;34m\u001b[0m\u001b[0;34m\u001b[0m\u001b[0m\n\u001b[0;32m----> 4\u001b[0;31m history = model.fit(X_train, y_train,\n\u001b[0m\u001b[1;32m      5\u001b[0m                     \u001b[0mvalidation_data\u001b[0m \u001b[0;34m=\u001b[0m \u001b[0;34m(\u001b[0m\u001b[0mX_test\u001b[0m\u001b[0;34m,\u001b[0m \u001b[0my_test\u001b[0m\u001b[0;34m)\u001b[0m\u001b[0;34m,\u001b[0m\u001b[0;34m\u001b[0m\u001b[0;34m\u001b[0m\u001b[0m\n\u001b[1;32m      6\u001b[0m                     \u001b[0mepochs\u001b[0m \u001b[0;34m=\u001b[0m \u001b[0;36m3\u001b[0m\u001b[0;34m,\u001b[0m\u001b[0;34m\u001b[0m\u001b[0;34m\u001b[0m\u001b[0m\n",
      "\u001b[0;32m/opt/conda/lib/python3.9/site-packages/keras/utils/traceback_utils.py\u001b[0m in \u001b[0;36merror_handler\u001b[0;34m(*args, **kwargs)\u001b[0m\n\u001b[1;32m     65\u001b[0m     \u001b[0;32mexcept\u001b[0m \u001b[0mException\u001b[0m \u001b[0;32mas\u001b[0m \u001b[0me\u001b[0m\u001b[0;34m:\u001b[0m  \u001b[0;31m# pylint: disable=broad-except\u001b[0m\u001b[0;34m\u001b[0m\u001b[0;34m\u001b[0m\u001b[0m\n\u001b[1;32m     66\u001b[0m       \u001b[0mfiltered_tb\u001b[0m \u001b[0;34m=\u001b[0m \u001b[0m_process_traceback_frames\u001b[0m\u001b[0;34m(\u001b[0m\u001b[0me\u001b[0m\u001b[0;34m.\u001b[0m\u001b[0m__traceback__\u001b[0m\u001b[0;34m)\u001b[0m\u001b[0;34m\u001b[0m\u001b[0;34m\u001b[0m\u001b[0m\n\u001b[0;32m---> 67\u001b[0;31m       \u001b[0;32mraise\u001b[0m \u001b[0me\u001b[0m\u001b[0;34m.\u001b[0m\u001b[0mwith_traceback\u001b[0m\u001b[0;34m(\u001b[0m\u001b[0mfiltered_tb\u001b[0m\u001b[0;34m)\u001b[0m \u001b[0;32mfrom\u001b[0m \u001b[0;32mNone\u001b[0m\u001b[0;34m\u001b[0m\u001b[0;34m\u001b[0m\u001b[0m\n\u001b[0m\u001b[1;32m     68\u001b[0m     \u001b[0;32mfinally\u001b[0m\u001b[0;34m:\u001b[0m\u001b[0;34m\u001b[0m\u001b[0;34m\u001b[0m\u001b[0m\n\u001b[1;32m     69\u001b[0m       \u001b[0;32mdel\u001b[0m \u001b[0mfiltered_tb\u001b[0m\u001b[0;34m\u001b[0m\u001b[0;34m\u001b[0m\u001b[0m\n",
      "\u001b[0;32m/opt/conda/lib/python3.9/site-packages/tensorflow/python/framework/func_graph.py\u001b[0m in \u001b[0;36mautograph_handler\u001b[0;34m(*args, **kwargs)\u001b[0m\n\u001b[1;32m   1145\u001b[0m           \u001b[0;32mexcept\u001b[0m \u001b[0mException\u001b[0m \u001b[0;32mas\u001b[0m \u001b[0me\u001b[0m\u001b[0;34m:\u001b[0m  \u001b[0;31m# pylint:disable=broad-except\u001b[0m\u001b[0;34m\u001b[0m\u001b[0;34m\u001b[0m\u001b[0m\n\u001b[1;32m   1146\u001b[0m             \u001b[0;32mif\u001b[0m \u001b[0mhasattr\u001b[0m\u001b[0;34m(\u001b[0m\u001b[0me\u001b[0m\u001b[0;34m,\u001b[0m \u001b[0;34m\"ag_error_metadata\"\u001b[0m\u001b[0;34m)\u001b[0m\u001b[0;34m:\u001b[0m\u001b[0;34m\u001b[0m\u001b[0;34m\u001b[0m\u001b[0m\n\u001b[0;32m-> 1147\u001b[0;31m               \u001b[0;32mraise\u001b[0m \u001b[0me\u001b[0m\u001b[0;34m.\u001b[0m\u001b[0mag_error_metadata\u001b[0m\u001b[0;34m.\u001b[0m\u001b[0mto_exception\u001b[0m\u001b[0;34m(\u001b[0m\u001b[0me\u001b[0m\u001b[0;34m)\u001b[0m\u001b[0;34m\u001b[0m\u001b[0;34m\u001b[0m\u001b[0m\n\u001b[0m\u001b[1;32m   1148\u001b[0m             \u001b[0;32melse\u001b[0m\u001b[0;34m:\u001b[0m\u001b[0;34m\u001b[0m\u001b[0;34m\u001b[0m\u001b[0m\n\u001b[1;32m   1149\u001b[0m               \u001b[0;32mraise\u001b[0m\u001b[0;34m\u001b[0m\u001b[0;34m\u001b[0m\u001b[0m\n",
      "\u001b[0;31mValueError\u001b[0m: in user code:\n\n    File \"/opt/conda/lib/python3.9/site-packages/keras/engine/training.py\", line 1021, in train_function  *\n        return step_function(self, iterator)\n    File \"/opt/conda/lib/python3.9/site-packages/keras/engine/training.py\", line 1010, in step_function  **\n        outputs = model.distribute_strategy.run(run_step, args=(data,))\n    File \"/opt/conda/lib/python3.9/site-packages/keras/engine/training.py\", line 1000, in run_step  **\n        outputs = model.train_step(data)\n    File \"/opt/conda/lib/python3.9/site-packages/keras/engine/training.py\", line 860, in train_step\n        loss = self.compute_loss(x, y, y_pred, sample_weight)\n    File \"/opt/conda/lib/python3.9/site-packages/keras/engine/training.py\", line 918, in compute_loss\n        return self.compiled_loss(\n    File \"/opt/conda/lib/python3.9/site-packages/keras/engine/compile_utils.py\", line 201, in __call__\n        loss_value = loss_obj(y_t, y_p, sample_weight=sw)\n    File \"/opt/conda/lib/python3.9/site-packages/keras/losses.py\", line 141, in __call__\n        losses = call_fn(y_true, y_pred)\n    File \"/opt/conda/lib/python3.9/site-packages/keras/losses.py\", line 245, in call  **\n        return ag_fn(y_true, y_pred, **self._fn_kwargs)\n    File \"/opt/conda/lib/python3.9/site-packages/keras/losses.py\", line 1789, in categorical_crossentropy\n        return backend.categorical_crossentropy(\n    File \"/opt/conda/lib/python3.9/site-packages/keras/backend.py\", line 5083, in categorical_crossentropy\n        target.shape.assert_is_compatible_with(output.shape)\n\n    ValueError: Shapes (None, 1) and (None, 10) are incompatible\n"
     ]
    }
   ],
   "source": [
    "# Building model\n",
    "model = create_model(1024)\n",
    "# Train model with extra validation split\n",
    "history = model.fit(X_train, y_train,\n",
    "                    validation_data = (X_test, y_test),\n",
    "                    epochs = 3,\n",
    "                    validation_split = 0.1,\n",
    "                    batch_size = 32,\n",
    "                    verbose = 1)"
   ]
  },
  {
   "cell_type": "code",
   "execution_count": 122,
   "id": "669079ba-419f-423d-b159-8f011c3ccb92",
   "metadata": {
    "execution": {
     "iopub.execute_input": "2022-05-16T14:35:59.865183Z",
     "iopub.status.busy": "2022-05-16T14:35:59.864844Z",
     "iopub.status.idle": "2022-05-16T14:35:59.869587Z",
     "shell.execute_reply": "2022-05-16T14:35:59.869020Z",
     "shell.execute_reply.started": "2022-05-16T14:35:59.865160Z"
    },
    "tags": []
   },
   "outputs": [
    {
     "data": {
      "text/plain": [
       "1024"
      ]
     },
     "execution_count": 122,
     "metadata": {},
     "output_type": "execute_result"
    }
   ],
   "source": [
    "X_train.shape[1]"
   ]
  },
  {
   "cell_type": "code",
   "execution_count": null,
   "id": "f9acb038-814c-4ddb-8492-bcfa05ec229f",
   "metadata": {},
   "outputs": [],
   "source": []
  }
 ],
 "metadata": {
  "kernelspec": {
   "display_name": "Python 3 ",
   "language": "python",
   "name": "python3"
  },
  "language_info": {
   "codemirror_mode": {
    "name": "ipython",
    "version": 3
   },
   "file_extension": ".py",
   "mimetype": "text/x-python",
   "name": "python",
   "nbconvert_exporter": "python",
   "pygments_lexer": "ipython3",
   "version": "3.9.6"
  }
 },
 "nbformat": 4,
 "nbformat_minor": 5
}

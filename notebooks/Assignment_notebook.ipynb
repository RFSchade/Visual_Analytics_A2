{
 "cells": [
  {
   "cell_type": "markdown",
   "id": "3b67214a-818a-4ab7-bd69-08f3eebacb77",
   "metadata": {},
   "source": [
    "# Assignment Notebook "
   ]
  },
  {
   "cell_type": "markdown",
   "id": "c4ecd04c-2464-45fe-a4f8-83047a8f1ceb",
   "metadata": {},
   "source": [
    "Import Modules"
   ]
  },
  {
   "cell_type": "code",
   "execution_count": 1,
   "id": "b010d1f1-94e5-4350-8af7-69a023363a7e",
   "metadata": {
    "execution": {
     "iopub.execute_input": "2022-04-05T14:21:00.716625Z",
     "iopub.status.busy": "2022-04-05T14:21:00.716100Z",
     "iopub.status.idle": "2022-04-05T14:21:01.611122Z",
     "shell.execute_reply": "2022-04-05T14:21:01.609939Z",
     "shell.execute_reply.started": "2022-04-05T14:21:00.716576Z"
    },
    "tags": []
   },
   "outputs": [],
   "source": [
    "import os\n",
    "import sys\n",
    "sys.path.append(os.path.join(\"..\"))\n",
    "\n",
    "# Import teaching utils\n",
    "import numpy as np\n",
    "import utils.classifier_utils as clf_util\n",
    "\n",
    "# Neural network \n",
    "from utils.neuralnetwork import NeuralNetwork\n",
    "\n",
    "# Import sklearn metrics\n",
    "from sklearn import metrics\n",
    "from sklearn.datasets import fetch_openml\n",
    "from sklearn.model_selection import train_test_split\n",
    "from sklearn.linear_model import LogisticRegression\n",
    "from sklearn.metrics import accuracy_score\n",
    "from sklearn.preprocessing import LabelBinarizer"
   ]
  },
  {
   "cell_type": "markdown",
   "id": "6220ff04-41b3-472f-98b6-9d9209674c3e",
   "metadata": {},
   "source": [
    "Load data"
   ]
  },
  {
   "cell_type": "code",
   "execution_count": 2,
   "id": "89883906-4935-4885-a66b-283c09b7c460",
   "metadata": {
    "execution": {
     "iopub.execute_input": "2022-04-05T14:21:03.773972Z",
     "iopub.status.busy": "2022-04-05T14:21:03.773473Z",
     "iopub.status.idle": "2022-04-05T14:21:40.199476Z",
     "shell.execute_reply": "2022-04-05T14:21:40.197765Z",
     "shell.execute_reply.started": "2022-04-05T14:21:03.773923Z"
    },
    "tags": []
   },
   "outputs": [],
   "source": [
    "X, y = fetch_openml(\"mnist_784\", return_X_y=True)"
   ]
  },
  {
   "cell_type": "code",
   "execution_count": 3,
   "id": "9c8e8e73-93ac-4a6f-8458-5195227f3463",
   "metadata": {
    "execution": {
     "iopub.execute_input": "2022-04-02T18:31:08.875107Z",
     "iopub.status.busy": "2022-04-02T18:31:08.874980Z",
     "iopub.status.idle": "2022-04-02T18:31:09.060469Z",
     "shell.execute_reply": "2022-04-02T18:31:09.059572Z",
     "shell.execute_reply.started": "2022-04-02T18:31:08.875092Z"
    },
    "tags": []
   },
   "outputs": [],
   "source": [
    "# I cannot remember why I am doing this\n",
    "X = np.array(X)\n",
    "y = np.array(y)"
   ]
  },
  {
   "cell_type": "code",
   "execution_count": 6,
   "id": "cf6d22a4-50eb-4f5f-9061-9d1561d916da",
   "metadata": {
    "execution": {
     "iopub.execute_input": "2022-04-02T18:31:42.591381Z",
     "iopub.status.busy": "2022-04-02T18:31:42.590881Z",
     "iopub.status.idle": "2022-04-02T18:31:42.599427Z",
     "shell.execute_reply": "2022-04-02T18:31:42.598354Z",
     "shell.execute_reply.started": "2022-04-02T18:31:42.591334Z"
    },
    "tags": []
   },
   "outputs": [
    {
     "name": "stdout",
     "output_type": "stream",
     "text": [
      "['0', '1', '2', '3', '4', '5', '6', '7', '8', '9']\n",
      "10\n"
     ]
    }
   ],
   "source": [
    "# Predefine classes and nr. of classes \n",
    "classes = sorted(set(y))\n",
    "nclasses = len(classes)\n",
    "print(classes)\n",
    "print(nclasses)"
   ]
  },
  {
   "cell_type": "code",
   "execution_count": 5,
   "id": "44c02f48-ddcf-42b7-ad69-3de1f06a759b",
   "metadata": {
    "execution": {
     "iopub.execute_input": "2022-04-02T18:31:32.703447Z",
     "iopub.status.busy": "2022-04-02T18:31:32.702969Z",
     "iopub.status.idle": "2022-04-02T18:31:32.809280Z",
     "shell.execute_reply": "2022-04-02T18:31:32.808413Z",
     "shell.execute_reply.started": "2022-04-02T18:31:32.703399Z"
    },
    "tags": []
   },
   "outputs": [],
   "source": [
    "# Splitting data \n",
    "X_train, X_test, y_train, y_test = train_test_split(X, y, random_state=42, train_size = 7500, test_size = 2500) "
   ]
  },
  {
   "cell_type": "code",
   "execution_count": 7,
   "id": "703365eb-674a-423a-a612-39698c3c449f",
   "metadata": {
    "execution": {
     "iopub.execute_input": "2022-04-01T16:26:17.097139Z",
     "iopub.status.busy": "2022-04-01T16:26:17.096984Z",
     "iopub.status.idle": "2022-04-01T16:26:17.112864Z",
     "shell.execute_reply": "2022-04-01T16:26:17.111680Z",
     "shell.execute_reply.started": "2022-04-01T16:26:17.097123Z"
    },
    "tags": []
   },
   "outputs": [],
   "source": [
    "# Scaling the features\n",
    "X_train_scaled = X_train / 255\n",
    "X_test_scaled = X_test / 255\n",
    "# (can't remember why we do this, or why we \"unscale\" later)"
   ]
  },
  {
   "cell_type": "markdown",
   "id": "b57e85fb-d137-4b81-bef4-7da416b09836",
   "metadata": {},
   "source": [
    "Train model "
   ]
  },
  {
   "cell_type": "code",
   "execution_count": 8,
   "id": "95ad43b0-70ad-4eda-aed9-8b6b2c182a52",
   "metadata": {
    "execution": {
     "iopub.execute_input": "2022-04-01T16:26:21.837433Z",
     "iopub.status.busy": "2022-04-01T16:26:21.836909Z",
     "iopub.status.idle": "2022-04-01T16:26:21.844749Z",
     "shell.execute_reply": "2022-04-01T16:26:21.843292Z",
     "shell.execute_reply.started": "2022-04-01T16:26:21.837383Z"
    },
    "tags": []
   },
   "outputs": [],
   "source": [
    "clf = LogisticRegression(multi_class=\"multinomial\")"
   ]
  },
  {
   "cell_type": "code",
   "execution_count": 9,
   "id": "51bd22b7-2a08-495a-a1c2-dc9ff13a5ed4",
   "metadata": {
    "execution": {
     "iopub.execute_input": "2022-04-01T16:26:22.462684Z",
     "iopub.status.busy": "2022-04-01T16:26:22.462213Z",
     "iopub.status.idle": "2022-04-01T16:26:23.455780Z",
     "shell.execute_reply": "2022-04-01T16:26:23.454548Z",
     "shell.execute_reply.started": "2022-04-01T16:26:22.462637Z"
    },
    "tags": []
   },
   "outputs": [],
   "source": [
    "clf = LogisticRegression(penalty=\"none\",\n",
    "                         tol=0.1,\n",
    "                         solver=\"saga\",\n",
    "                         multi_class=\"multinomial\").fit(X_train_scaled, y_train)"
   ]
  },
  {
   "cell_type": "markdown",
   "id": "a6322b16-f0b4-4f2d-b60c-29899786a3ac",
   "metadata": {},
   "source": [
    "Report"
   ]
  },
  {
   "cell_type": "code",
   "execution_count": 10,
   "id": "a078a353-0e91-4267-9940-22f4d49bc66a",
   "metadata": {
    "execution": {
     "iopub.execute_input": "2022-04-01T16:26:27.186307Z",
     "iopub.status.busy": "2022-04-01T16:26:27.185801Z",
     "iopub.status.idle": "2022-04-01T16:26:27.290158Z",
     "shell.execute_reply": "2022-04-01T16:26:27.203319Z",
     "shell.execute_reply.started": "2022-04-01T16:26:27.186256Z"
    },
    "tags": []
   },
   "outputs": [],
   "source": [
    "y_pred = clf.predict(X_test_scaled) "
   ]
  },
  {
   "cell_type": "code",
   "execution_count": 11,
   "id": "f87e2db9-b7f5-4e02-9839-f99cf7bf84e9",
   "metadata": {
    "execution": {
     "iopub.execute_input": "2022-04-01T16:26:29.189382Z",
     "iopub.status.busy": "2022-04-01T16:26:29.188718Z",
     "iopub.status.idle": "2022-04-01T16:26:29.254664Z",
     "shell.execute_reply": "2022-04-01T16:26:29.253919Z",
     "shell.execute_reply.started": "2022-04-01T16:26:29.189311Z"
    },
    "tags": []
   },
   "outputs": [
    {
     "name": "stdout",
     "output_type": "stream",
     "text": [
      "              precision    recall  f1-score   support\n",
      "\n",
      "           0       0.95      0.97      0.96       251\n",
      "           1       0.92      0.97      0.95       263\n",
      "           2       0.86      0.91      0.88       233\n",
      "           3       0.88      0.88      0.88       289\n",
      "           4       0.87      0.92      0.90       203\n",
      "           5       0.89      0.87      0.88       247\n",
      "           6       0.94      0.94      0.94       254\n",
      "           7       0.92      0.90      0.91       260\n",
      "           8       0.91      0.83      0.87       243\n",
      "           9       0.92      0.89      0.90       257\n",
      "\n",
      "    accuracy                           0.91      2500\n",
      "   macro avg       0.91      0.91      0.91      2500\n",
      "weighted avg       0.91      0.91      0.91      2500\n",
      "\n"
     ]
    }
   ],
   "source": [
    "report = metrics.classification_report(y_test, y_pred)\n",
    "print(report)"
   ]
  },
  {
   "cell_type": "code",
   "execution_count": 12,
   "id": "d864d5e0-97f9-422d-b304-850ceddcd172",
   "metadata": {
    "execution": {
     "iopub.execute_input": "2022-04-01T16:34:15.062087Z",
     "iopub.status.busy": "2022-04-01T16:34:15.061584Z",
     "iopub.status.idle": "2022-04-01T16:34:15.070740Z",
     "shell.execute_reply": "2022-04-01T16:34:15.069175Z",
     "shell.execute_reply.started": "2022-04-01T16:34:15.062037Z"
    }
   },
   "outputs": [],
   "source": [
    "# Saving txt file \n",
    "#outpath = os.path.join(\"..\", \"output\", \"lr_report.txt\")\n",
    "#with open(outpath, \"w\") as f:\n",
    "    #f.write(report)"
   ]
  },
  {
   "cell_type": "markdown",
   "id": "6a166739-8981-4b56-ae1b-632a826961bd",
   "metadata": {},
   "source": [
    "Train Neural Network "
   ]
  },
  {
   "cell_type": "code",
   "execution_count": 15,
   "id": "19b9a6bf-723f-49cf-9b73-a6bebecc5fd1",
   "metadata": {
    "execution": {
     "iopub.execute_input": "2022-04-01T16:44:55.181583Z",
     "iopub.status.busy": "2022-04-01T16:44:55.181064Z",
     "iopub.status.idle": "2022-04-01T16:44:55.217404Z",
     "shell.execute_reply": "2022-04-01T16:44:55.216609Z",
     "shell.execute_reply.started": "2022-04-01T16:44:55.181534Z"
    },
    "tags": []
   },
   "outputs": [],
   "source": [
    "# I don't really remember why I do this \n",
    "# Is it so I can use a logistic regression as an activation function on categorical data with more than 1 categories? \n",
    "y_train = LabelBinarizer().fit_transform(y_train)\n",
    "y_test = LabelBinarizer().fit_transform(y_test)"
   ]
  },
  {
   "cell_type": "code",
   "execution_count": 39,
   "id": "e2e18bde-d103-4e9f-8e20-311783b17673",
   "metadata": {
    "execution": {
     "iopub.execute_input": "2022-04-01T17:12:02.144737Z",
     "iopub.status.busy": "2022-04-01T17:12:02.144048Z",
     "iopub.status.idle": "2022-04-01T17:14:39.195684Z",
     "shell.execute_reply": "2022-04-01T17:14:39.192655Z",
     "shell.execute_reply.started": "2022-04-01T17:12:02.144679Z"
    },
    "tags": []
   },
   "outputs": [
    {
     "name": "stdout",
     "output_type": "stream",
     "text": [
      "[INFO] training network...\n",
      "[INFO] NeuralNetwork: 784-64-10\n"
     ]
    },
    {
     "name": "stderr",
     "output_type": "stream",
     "text": [
      "/work/cds-visual/Assignment_2/Visual_Analytics_A2/notebooks/../utils/neuralnetwork.py:31: RuntimeWarning: overflow encountered in exp\n",
      "  return 1.0 / (1 + np.exp(-x))\n"
     ]
    },
    {
     "name": "stdout",
     "output_type": "stream",
     "text": [
      "[INFO] epoch=1, loss=2883.1934802\n",
      "[INFO] epoch=2, loss=3303.9009285\n",
      "[INFO] epoch=3, loss=3181.9142130\n",
      "[INFO] epoch=4, loss=3284.8594124\n",
      "[INFO] epoch=5, loss=3278.9601226\n",
      "[INFO] epoch=6, loss=3306.3911254\n",
      "[INFO] epoch=7, loss=3239.6662034\n",
      "[INFO] epoch=8, loss=3180.3205377\n",
      "[INFO] epoch=9, loss=3338.5180353\n",
      "[INFO] epoch=10, loss=3331.2024602\n",
      "[INFO] epoch=11, loss=3309.3972544\n",
      "[INFO] epoch=12, loss=3284.6413435\n",
      "[INFO] epoch=13, loss=3252.3108691\n",
      "[INFO] epoch=14, loss=3249.4002169\n",
      "[INFO] epoch=15, loss=3246.9336873\n",
      "[INFO] epoch=16, loss=3251.8588719\n",
      "[INFO] epoch=17, loss=3234.3202933\n",
      "[INFO] epoch=18, loss=3232.5443419\n",
      "[INFO] epoch=19, loss=3231.7549439\n",
      "[INFO] epoch=20, loss=3231.2010776\n",
      "[INFO] epoch=21, loss=3230.7290266\n",
      "[INFO] epoch=22, loss=3230.1372119\n",
      "[INFO] epoch=23, loss=3175.1070998\n",
      "[INFO] epoch=24, loss=3150.2885627\n",
      "[INFO] epoch=25, loss=3102.8911888\n",
      "[INFO] epoch=26, loss=3173.3037209\n",
      "[INFO] epoch=27, loss=3100.6349870\n",
      "[INFO] epoch=28, loss=3056.6844501\n",
      "[INFO] epoch=29, loss=3054.3973401\n",
      "[INFO] epoch=30, loss=3233.0545302\n"
     ]
    }
   ],
   "source": [
    "print(\"[INFO] training network...\")\n",
    "input_shape = X_train.shape[1]\n",
    "nn = NeuralNetwork([input_shape, 64, 10]) # I am not sure why I get a warning here?\n",
    "print(f\"[INFO] {nn}\")\n",
    "nn.fit(X_train, y_train, epochs=30, displayUpdate=1) # Change nr. epochs to 150 or something before handing in!"
   ]
  },
  {
   "cell_type": "code",
   "execution_count": 21,
   "id": "8bbfc5cf-5763-48b0-9af5-59d90c5f3121",
   "metadata": {
    "execution": {
     "iopub.execute_input": "2022-04-01T17:03:12.448286Z",
     "iopub.status.busy": "2022-04-01T17:03:12.447625Z",
     "iopub.status.idle": "2022-04-01T17:03:12.479283Z",
     "shell.execute_reply": "2022-04-01T17:03:12.477740Z",
     "shell.execute_reply.started": "2022-04-01T17:03:12.448232Z"
    },
    "tags": []
   },
   "outputs": [],
   "source": [
    "predictions = nn.predict(X_test)"
   ]
  },
  {
   "cell_type": "code",
   "execution_count": 32,
   "id": "a9b814b2-ae8d-4e51-b94e-327a4e4d1d43",
   "metadata": {
    "execution": {
     "iopub.execute_input": "2022-04-01T17:08:58.803415Z",
     "iopub.status.busy": "2022-04-01T17:08:58.802894Z",
     "iopub.status.idle": "2022-04-01T17:08:58.822790Z",
     "shell.execute_reply": "2022-04-01T17:08:58.822149Z",
     "shell.execute_reply.started": "2022-04-01T17:08:58.803363Z"
    },
    "tags": []
   },
   "outputs": [
    {
     "name": "stderr",
     "output_type": "stream",
     "text": [
      "/opt/conda/lib/python3.9/site-packages/sklearn/metrics/_classification.py:1318: UndefinedMetricWarning: Precision and F-score are ill-defined and being set to 0.0 in labels with no predicted samples. Use `zero_division` parameter to control this behavior.\n",
      "  _warn_prf(average, modifier, msg_start, len(result))\n",
      "/opt/conda/lib/python3.9/site-packages/sklearn/metrics/_classification.py:1318: UndefinedMetricWarning: Precision and F-score are ill-defined and being set to 0.0 in labels with no predicted samples. Use `zero_division` parameter to control this behavior.\n",
      "  _warn_prf(average, modifier, msg_start, len(result))\n",
      "/opt/conda/lib/python3.9/site-packages/sklearn/metrics/_classification.py:1318: UndefinedMetricWarning: Precision and F-score are ill-defined and being set to 0.0 in labels with no predicted samples. Use `zero_division` parameter to control this behavior.\n",
      "  _warn_prf(average, modifier, msg_start, len(result))\n"
     ]
    }
   ],
   "source": [
    "y_pred = predictions.argmax(axis=1) # I am not sure what the argmax does? \n",
    "report = metrics.classification_report(y_test.argmax(axis=1), y_pred)"
   ]
  },
  {
   "cell_type": "code",
   "execution_count": 34,
   "id": "d1f489a6-89c3-459d-b9f9-04b3be8efdfd",
   "metadata": {
    "execution": {
     "iopub.execute_input": "2022-04-01T17:10:08.512199Z",
     "iopub.status.busy": "2022-04-01T17:10:08.511699Z",
     "iopub.status.idle": "2022-04-01T17:10:08.519200Z",
     "shell.execute_reply": "2022-04-01T17:10:08.518148Z",
     "shell.execute_reply.started": "2022-04-01T17:10:08.512148Z"
    },
    "tags": []
   },
   "outputs": [
    {
     "name": "stdout",
     "output_type": "stream",
     "text": [
      "              precision    recall  f1-score   support\n",
      "\n",
      "           0       0.84      0.31      0.45       251\n",
      "           1       1.00      0.00      0.01       263\n",
      "           2       0.25      0.00      0.01       233\n",
      "           3       0.12      1.00      0.21       289\n",
      "           4       0.00      0.00      0.00       203\n",
      "           5       0.00      0.00      0.00       247\n",
      "           6       0.00      0.00      0.00       254\n",
      "           7       0.00      0.00      0.00       260\n",
      "           8       0.00      0.00      0.00       243\n",
      "           9       0.00      0.00      0.00       257\n",
      "\n",
      "    accuracy                           0.15      2500\n",
      "   macro avg       0.22      0.13      0.07      2500\n",
      "weighted avg       0.23      0.15      0.07      2500\n",
      "\n"
     ]
    }
   ],
   "source": [
    "print(report)"
   ]
  },
  {
   "cell_type": "code",
   "execution_count": 37,
   "id": "dd4ddcfc-a349-4467-b465-b9c6954f23b8",
   "metadata": {
    "execution": {
     "iopub.execute_input": "2022-04-01T17:10:52.475215Z",
     "iopub.status.busy": "2022-04-01T17:10:52.474714Z",
     "iopub.status.idle": "2022-04-01T17:10:52.482219Z",
     "shell.execute_reply": "2022-04-01T17:10:52.481099Z",
     "shell.execute_reply.started": "2022-04-01T17:10:52.475164Z"
    },
    "tags": []
   },
   "outputs": [
    {
     "name": "stdout",
     "output_type": "stream",
     "text": [
      "[INFO] NeuralNetwork: 784-64-10\n"
     ]
    }
   ],
   "source": [
    "# Saving txt file \n",
    "#outpath = os.path.join(\"..\", \"output\", \"nn_report.txt\")\n",
    "#with open(outpath, \"w\") as f:\n",
    "    #f.write(report)"
   ]
  },
  {
   "cell_type": "code",
   "execution_count": null,
   "id": "f912f3e7-b2c6-490d-8f16-be84c6c1f3f5",
   "metadata": {},
   "outputs": [],
   "source": []
  }
 ],
 "metadata": {
  "kernelspec": {
   "display_name": "Python 3 ",
   "language": "python",
   "name": "python3"
  },
  "language_info": {
   "codemirror_mode": {
    "name": "ipython",
    "version": 3
   },
   "file_extension": ".py",
   "mimetype": "text/x-python",
   "name": "python",
   "nbconvert_exporter": "python",
   "pygments_lexer": "ipython3",
   "version": "3.9.6"
  }
 },
 "nbformat": 4,
 "nbformat_minor": 5
}
